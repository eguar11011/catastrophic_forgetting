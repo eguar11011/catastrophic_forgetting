{
 "cells": [
  {
   "cell_type": "code",
   "execution_count": 1,
   "metadata": {},
   "outputs": [],
   "source": []
  },
  {
   "cell_type": "code",
   "execution_count": 22,
   "metadata": {},
   "outputs": [],
   "source": [
    "import torch.nn.functional as F\n",
    "import torchvision\n",
    "from torchvision import transforms\n",
    "import torch\n",
    "from torch import nn\n",
    "import torch\n",
    "from torch.utils.data import DataLoader, Subset\n",
    "import os\n"
   ]
  },
  {
   "cell_type": "code",
   "execution_count": null,
   "metadata": {},
   "outputs": [],
   "source": [
    "\n",
    "\n",
    "class WeightAligning_NeuralNetwork(nn.Module):\n",
    "    def __init__(self, input_size, hidden_size, output_size, num_old_classes):\n",
    "        super().__init__()\n",
    "        self.input_size = input_size\n",
    "        self.hidden_size = hidden_size\n",
    "        self.output_size = output_size\n",
    "        self.num_old_classes = num_old_classes\n",
    "        \n",
    "        # Definir las capas lineales\n",
    "        self.fc1 = nn.Linear(input_size, hidden_size)\n",
    "        self.fc2 = nn.Linear(hidden_size, hidden_size)\n",
    "        self.fc3 = nn.Linear(hidden_size, output_size)\n",
    "        \n",
    "    def forward(self, x):\n",
    "        # Propagación hacia adelante en la red\n",
    "        x = F.relu(self.fc1(x))\n",
    "        x = F.relu(self.fc2(x))\n",
    "        \n",
    "        if self.output_size != self.num_old_classes: \n",
    "            # Separar los pesos de las capas lineales para clases antiguas y nuevas\n",
    "            weights_old = self.fc3.weight[:self.num_old_classes, :]\n",
    "            weights_new = self.fc3.weight[self.num_old_classes:, :]\n",
    "            \n",
    "\n",
    "            # Calcular las normas de los vectores de peso para clases antiguas y nuevas\n",
    "            norm_old = torch.norm(weights_old, dim=1)\n",
    "            norm_new = torch.norm(weights_new, dim=1)\n",
    "            \n",
    "            # Calcular el factor de normalización γ\n",
    "            gamma = torch.mean(norm_old) / torch.mean(norm_new)\n",
    "            \n",
    "            # Aplicar el alineamiento de pesos (Weight Aligning)\n",
    "            weights_new_aligned = gamma * weights_new\n",
    "            \n",
    "            # Concatenar los pesos alineados con los pesos antiguos\n",
    "            weights_aligned = torch.cat((weights_old, weights_new_aligned), dim=0)\n",
    "            \n",
    "            # Aplicar los pesos alineados para calcular la salida\n",
    "            logits = F.linear(x, weights_aligned, self.fc3.bias)\n",
    "\n",
    "        else: logits = self.fc3(x)\n",
    "        \n",
    "        return logits\n"
   ]
  },
  {
   "cell_type": "code",
   "execution_count": null,
   "metadata": {},
   "outputs": [],
   "source": [
    "\n",
    "import torch\n",
    "import torch.nn as nn\n",
    "\n",
    "# Definir las dimensiones de la red y el número de clases antiguas\n",
    "input_size = 28*28  # Tamaño de entrada (por ejemplo, para imágenes de 28x28 píxeles)\n",
    "hidden_size = 512  # Tamaño de las capas ocultas\n",
    "output_size = 10  # Tamaño de salida (ejemplo: 20 clases nuevas)\n",
    "num_old_classes = 5  # Número de clases antiguas\n",
    "\n",
    "# Crear una instancia de la red neuronal con alineación de pesos\n",
    "model = WeightAligning_NeuralNetwork(input_size, hidden_size, output_size, num_old_classes)\n",
    "\n",
    "# Crear datos de entrada de ejemplo\n",
    "input_data = torch.randn(1, input_size)  # Supongamos una sola imagen de tamaño input_size\n",
    "\n",
    "# Pasar los datos de entrada a través de la red neuronal\n",
    "output_logits = model(input_data)\n",
    "\n",
    "# Mostrar la forma de los logits de salida\n",
    "print(\"Forma de los logits de salida:\", output_logits.shape)\n"
   ]
  }
 ],
 "metadata": {
  "kernelspec": {
   "display_name": "torch",
   "language": "python",
   "name": "python3"
  },
  "language_info": {
   "codemirror_mode": {
    "name": "ipython",
    "version": 3
   },
   "file_extension": ".py",
   "mimetype": "text/x-python",
   "name": "python",
   "nbconvert_exporter": "python",
   "pygments_lexer": "ipython3",
   "version": "3.11.5"
  },
  "orig_nbformat": 4
 },
 "nbformat": 4,
 "nbformat_minor": 2
}
