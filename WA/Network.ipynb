{
 "cells": [
  {
   "cell_type": "code",
   "execution_count": 4,
   "metadata": {},
   "outputs": [],
   "source": [
    "import torch.nn.functional as F\n",
    "import torchvision\n",
    "from torchvision import transforms\n",
    "import torch\n",
    "from torch import nn\n",
    "import torch\n",
    "from torch.utils.data import DataLoader, Subset\n",
    "import os\n",
    "import torchvision.models as models\n"
   ]
  },
  {
   "cell_type": "code",
   "execution_count": 2,
   "metadata": {},
   "outputs": [],
   "source": [
    "class WeightAligning_NeuralNetwork(nn.Module):\n",
    "    def __init__(self, input_size, hidden_size, output_size, num_old_classes):\n",
    "        super().__init__()\n",
    "        self.input_size = input_size\n",
    "        self.hidden_size = hidden_size\n",
    "        self.output_size = output_size\n",
    "        self.num_old_classes = num_old_classes\n",
    "        \n",
    "        resnet = models.resnet18(pretrained=False)\n",
    "        self.features = nn.Sequential(*list(resnet.children())[:-1])  # Obtener todas las capas excepto la capa de clasificación\n",
    "\n",
    "\n",
    "        self.flatten = nn.Flatten()\n",
    "        # Definir las capas lineales\n",
    "        self.fc1 = nn.Linear(input_size, hidden_size)\n",
    "        self.fc2 = nn.Linear(hidden_size, hidden_size)\n",
    "        self.fc3 = nn.Linear(hidden_size, output_size)\n",
    "        \n",
    "    def forward(self, x):\n",
    "        # Propagación hacia adelante en la red\n",
    "        x = self.flatten(x)\n",
    "        x = F.relu(self.fc1(x))\n",
    "        x = F.relu(self.fc2(x))\n",
    "        \n",
    "        if self.output_size != self.num_old_classes: \n",
    "            # Separar los pesos de las capas lineales para clases antiguas y nuevas\n",
    "            weights_old = self.fc3.weight[:self.num_old_classes, :]\n",
    "            weights_new = self.fc3.weight[self.num_old_classes:, :]\n",
    "            weights_old.requires_grad_(True) ;weights_new.requires_grad_(True)\n",
    "\n",
    "            # Calcular las normas de los vectores de peso para clases antiguas y nuevas\n",
    "            norm_old = torch.norm(weights_old, dim=1)\n",
    "            norm_new = torch.norm(weights_new, dim=1)\n",
    "            \n",
    "            # Calcular el factor de normalización γ\n",
    "            gamma = torch.mean(norm_old) / torch.mean(norm_new)\n",
    "            # Aplicar el alineamiento de pesos (Weight Aligning)\n",
    "            weights_new_aligned = gamma * weights_new\n",
    "            weights_new_aligned.requires_grad_(True)\n",
    "\n",
    "            # Crear una copia del tensor de pesos de fc3\n",
    "            new_fc3_weight = self.fc3.weight.clone()\n",
    "\n",
    "            # Asignar los pesos alineados a la parte correspondiente del tensor de pesos de fc3\n",
    "            new_fc3_weight[self.num_old_classes:, :] = weights_new_aligned\n",
    "\n",
    "            # Asignar el tensor de pesos modificado a fc3\n",
    "            self.fc3.weight = nn.Parameter(new_fc3_weight)\n",
    "            \n",
    "            \n",
    "            # Aplicar los pesos alineados para calcular la salida\n",
    "            logits = self.fc3(x)\n",
    "\n",
    "        else: logits = self.fc3(x)\n",
    "        \n",
    "        return logits\n"
   ]
  }
 ],
 "metadata": {
  "kernelspec": {
   "display_name": "torch",
   "language": "python",
   "name": "python3"
  },
  "language_info": {
   "codemirror_mode": {
    "name": "ipython",
    "version": 3
   },
   "file_extension": ".py",
   "mimetype": "text/x-python",
   "name": "python",
   "nbconvert_exporter": "python",
   "pygments_lexer": "ipython3",
   "version": "3.9.18"
  },
  "orig_nbformat": 4
 },
 "nbformat": 4,
 "nbformat_minor": 2
}
