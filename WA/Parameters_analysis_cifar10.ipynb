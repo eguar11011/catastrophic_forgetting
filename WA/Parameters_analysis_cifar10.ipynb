{
 "cells": [
  {
   "cell_type": "markdown",
   "metadata": {},
   "source": [
    "# Estudio de los parametros del modelo\n"
   ]
  },
  {
   "cell_type": "markdown",
   "metadata": {},
   "source": [
    "Queremos hacer un analisis de todos los parametros de nuestros dos modelos. \n",
    "- Fase_0\n",
    "- Fase_1"
   ]
  },
  {
   "cell_type": "markdown",
   "metadata": {},
   "source": [
    "### Fase 1"
   ]
  },
  {
   "cell_type": "code",
   "execution_count": 1,
   "metadata": {},
   "outputs": [
    {
     "name": "stdout",
     "output_type": "stream",
     "text": [
      "True\n"
     ]
    }
   ],
   "source": [
    "import torch\n",
    "from pprint import pprint\n",
    "device = \"cuda\"\n",
    "print(torch.cuda.is_available())"
   ]
  },
  {
   "cell_type": "code",
   "execution_count": 7,
   "metadata": {},
   "outputs": [],
   "source": [
    "fase_1 = torch.load('Fase_1_cifar10.pth')"
   ]
  },
  {
   "cell_type": "code",
   "execution_count": 8,
   "metadata": {},
   "outputs": [
    {
     "name": "stdout",
     "output_type": "stream",
     "text": [
      "Weights Norm:\n",
      "[(0, tensor(0.7280, device='cuda:0')),\n",
      " (1, tensor(0.8191, device='cuda:0')),\n",
      " (2, tensor(0.6781, device='cuda:0')),\n",
      " (3, tensor(0.6896, device='cuda:0')),\n",
      " (4, tensor(0.7060, device='cuda:0')),\n",
      " (5, tensor(0.7097, device='cuda:0')),\n",
      " (6, tensor(0.7208, device='cuda:0')),\n",
      " (7, tensor(0.7277, device='cuda:0')),\n",
      " (8, tensor(0.7378, device='cuda:0')),\n",
      " (9, tensor(0.7248, device='cuda:0'))]\n",
      "Bias:\n",
      "[(0, tensor(0.0486, device='cuda:0')),\n",
      " (1, tensor(0.0188, device='cuda:0')),\n",
      " (2, tensor(0.0346, device='cuda:0')),\n",
      " (3, tensor(0.0159, device='cuda:0')),\n",
      " (4, tensor(0.0379, device='cuda:0')),\n",
      " (5, tensor(0.1867, device='cuda:0')),\n",
      " (6, tensor(0.7567, device='cuda:0')),\n",
      " (7, tensor(0.2487, device='cuda:0')),\n",
      " (8, tensor(0.7195, device='cuda:0')),\n",
      " (9, tensor(0.2031, device='cuda:0'))]\n"
     ]
    }
   ],
   "source": [
    "print(\"Weights Norm:\")\n",
    "pprint([(indice ,torch.norm(row) ) for indice ,row in enumerate(fase_1[\"fc3.weight\"])])\n",
    "print(\"Bias:\")\n",
    "pprint([(indice ,torch.norm(row) ) for indice ,row in enumerate(fase_1[\"fc3.bias\"])])\n"
   ]
  },
  {
   "cell_type": "markdown",
   "metadata": {},
   "source": [
    "### Fase 0"
   ]
  },
  {
   "cell_type": "code",
   "execution_count": 9,
   "metadata": {},
   "outputs": [],
   "source": [
    "fase_0 = torch.load(\"Fase_0_cifar10.pth\")"
   ]
  },
  {
   "cell_type": "code",
   "execution_count": 10,
   "metadata": {},
   "outputs": [
    {
     "name": "stdout",
     "output_type": "stream",
     "text": [
      "Weights Norm:\n",
      "[(0, tensor(0.7280, device='cuda:0')),\n",
      " (1, tensor(0.8191, device='cuda:0')),\n",
      " (2, tensor(0.6781, device='cuda:0')),\n",
      " (3, tensor(0.6896, device='cuda:0')),\n",
      " (4, tensor(0.7060, device='cuda:0'))]\n",
      "Bias:\n",
      "[(0, tensor(0.7280, device='cuda:0')),\n",
      " (1, tensor(0.8191, device='cuda:0')),\n",
      " (2, tensor(0.6781, device='cuda:0')),\n",
      " (3, tensor(0.6896, device='cuda:0')),\n",
      " (4, tensor(0.7060, device='cuda:0'))]\n"
     ]
    }
   ],
   "source": [
    "print(\"Weights Norm:\")\n",
    "pprint([(indice ,torch.norm(row) ) for indice ,row in enumerate(fase_0[\"fc3.weight\"])])\n",
    "print(\"Bias:\")\n",
    "pprint([(indice ,torch.norm(row) ) for indice ,row in enumerate(fase_0[\"fc3.weight\"])])"
   ]
  }
 ],
 "metadata": {
  "kernelspec": {
   "display_name": "torch",
   "language": "python",
   "name": "python3"
  },
  "language_info": {
   "codemirror_mode": {
    "name": "ipython",
    "version": 3
   },
   "file_extension": ".py",
   "mimetype": "text/x-python",
   "name": "python",
   "nbconvert_exporter": "python",
   "pygments_lexer": "ipython3",
   "version": "3.9.18"
  },
  "orig_nbformat": 4
 },
 "nbformat": 4,
 "nbformat_minor": 2
}
