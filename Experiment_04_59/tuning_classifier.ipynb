{
 "cells": [
  {
   "cell_type": "markdown",
   "metadata": {},
   "source": [
    "### Tuning model: es basicamente reentrenar el clasificador de la etapa 1. Para conocer cual es el mejor clasificador que se puede optener con el espacio de caracteristicas optenido.\n"
   ]
  },
  {
   "cell_type": "markdown",
   "metadata": {},
   "source": [
    "\n",
    "Notebook para ver como congelar los parametros que no queremos modificar."
   ]
  },
  {
   "cell_type": "code",
   "execution_count": 1,
   "metadata": {},
   "outputs": [
    {
     "data": {
      "text/plain": [
       "<All keys matched successfully>"
      ]
     },
     "execution_count": 1,
     "metadata": {},
     "output_type": "execute_result"
    }
   ],
   "source": [
    "import torch\n",
    "import torch.nn as nn\n",
    "\n",
    "class NeuralNetwork(nn.Module):\n",
    "    def __init__(self):\n",
    "        super().__init__()\n",
    "        self.flatten = nn.Flatten()\n",
    "        self.linear_relu_stack = nn.Sequential(\n",
    "            nn.Linear(28*28, 512),\n",
    "            nn.ReLU(),\n",
    "            nn.Linear(512, 512),\n",
    "            nn.ReLU(),\n",
    "            nn.Linear(512, 10),\n",
    "        )\n",
    "\n",
    "    def forward(self, x):\n",
    "        x = self.flatten(x)\n",
    "        logits = self.linear_relu_stack(x)\n",
    "        return logits\n",
    "\n",
    "# Crear instancia del modelo\n",
    "model = NeuralNetwork()\n",
    "\n",
    "# Cargar el estado previamente guardado\n",
    "fase_1 = torch.load('Fase_1.pth')\n",
    "\n",
    "# Cargar los pesos al modelo\n",
    "model.load_state_dict(fase_1)"
   ]
  },
  {
   "cell_type": "markdown",
   "metadata": {},
   "source": [
    "Queremos congelar todas las capas menos las ultimas dos capas que son el bias y los pesos."
   ]
  },
  {
   "cell_type": "code",
   "execution_count": 2,
   "metadata": {},
   "outputs": [
    {
     "name": "stdout",
     "output_type": "stream",
     "text": [
      "6\n",
      "0 torch.Size([512, 784])\n",
      "1 torch.Size([512])\n",
      "2 torch.Size([512, 512])\n",
      "3 torch.Size([512])\n",
      "4 torch.Size([10, 512])\n",
      "5 torch.Size([10])\n"
     ]
    }
   ],
   "source": [
    "print(len(fase_1))\n",
    "for x,i in enumerate(model.parameters()):\n",
    "    print(x,i.shape)"
   ]
  },
  {
   "cell_type": "code",
   "execution_count": 3,
   "metadata": {},
   "outputs": [],
   "source": [
    "for idx,layer in enumerate(model.parameters()):\n",
    "    if idx == len(fase_1) -2: break\n",
    "    layer.requires_grad = False"
   ]
  },
  {
   "cell_type": "code",
   "execution_count": 4,
   "metadata": {},
   "outputs": [
    {
     "name": "stdout",
     "output_type": "stream",
     "text": [
      "0 False\n",
      "1 False\n",
      "2 False\n",
      "3 False\n",
      "4 True\n",
      "5 True\n"
     ]
    }
   ],
   "source": [
    "# Verificar qué capas están congeladas\n",
    "for idx, capa in enumerate(model.parameters()):\n",
    "    print(idx,capa.requires_grad)"
   ]
  }
 ],
 "metadata": {
  "kernelspec": {
   "display_name": "torch",
   "language": "python",
   "name": "python3"
  },
  "language_info": {
   "codemirror_mode": {
    "name": "ipython",
    "version": 3
   },
   "file_extension": ".py",
   "mimetype": "text/x-python",
   "name": "python",
   "nbconvert_exporter": "python",
   "pygments_lexer": "ipython3",
   "version": "3.11.5"
  },
  "orig_nbformat": 4
 },
 "nbformat": 4,
 "nbformat_minor": 2
}
