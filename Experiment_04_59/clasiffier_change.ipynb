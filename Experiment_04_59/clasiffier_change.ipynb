{
 "cells": [
  {
   "cell_type": "code",
   "execution_count": 1,
   "metadata": {},
   "outputs": [],
   "source": [
    "import torchvision\n",
    "from torchvision import transforms\n",
    "import torch\n",
    "from torch import nn\n",
    "from torch.utils.data import DataLoader\n"
   ]
  },
  {
   "cell_type": "code",
   "execution_count": 2,
   "metadata": {},
   "outputs": [],
   "source": [
    "class NeuralNetwork(nn.Module):\n",
    "    def __init__(self):\n",
    "        super().__init__()\n",
    "        self.flatten = nn.Flatten()\n",
    "        self.linear_relu_stack = nn.Sequential(\n",
    "            nn.Linear(28*28, 512),\n",
    "            nn.ReLU(),\n",
    "            nn.Linear(512, 512),\n",
    "            nn.ReLU(),\n",
    "            nn.Linear(512, 10),\n",
    "        )\n",
    "\n",
    "    def forward(self, x):\n",
    "        x = self.flatten(x)\n",
    "        logits = self.linear_relu_stack(x)\n",
    "        return logits\n"
   ]
  },
  {
   "cell_type": "code",
   "execution_count": 15,
   "metadata": {},
   "outputs": [],
   "source": [
    "device = \"cuda\"\n",
    "# Cargar los estados de los modelos\n",
    "estado_fase_0 = torch.load('Fase_0.pth')\n",
    "estado_fase_1 = torch.load('Fase_1.pth')\n"
   ]
  },
  {
   "cell_type": "code",
   "execution_count": 16,
   "metadata": {},
   "outputs": [
    {
     "name": "stdout",
     "output_type": "stream",
     "text": [
      "tensor([[ 0.0383, -0.0326,  0.0727,  ...,  0.0039, -0.0428, -0.0378],\n",
      "        [ 0.0135, -0.0440,  0.0140,  ..., -0.0180,  0.0154, -0.0127],\n",
      "        [-0.0364,  0.0376,  0.0563,  ..., -0.0163,  0.0076,  0.0382],\n",
      "        ...,\n",
      "        [ 0.0009,  0.0627, -0.0303,  ..., -0.0268, -0.0165,  0.0440],\n",
      "        [-0.0027, -0.0010,  0.0692,  ..., -0.0151, -0.0139, -0.0044],\n",
      "        [ 0.0411,  0.0322, -0.0752,  ..., -0.0412, -0.0216, -0.0188]],\n",
      "       device='cuda:0')\n",
      "tensor([-0.0321,  0.1792, -0.0126, -0.0387,  0.0772,  0.0711, -0.0166,  0.0924,\n",
      "        -0.1790, -0.0467], device='cuda:0')\n"
     ]
    }
   ],
   "source": [
    "print(estado_fase_1[\"linear_relu_stack.4.weight\"])\n",
    "print(estado_fase_1[\"linear_relu_stack.4.bias\"])"
   ]
  },
  {
   "cell_type": "code",
   "execution_count": 17,
   "metadata": {},
   "outputs": [],
   "source": [
    "\n",
    "inicio, fin = 5, 10\n",
    "# Transferir el clasificador de Fase_0 a Fase_1\n",
    "estado_fase_1[\"linear_relu_stack.4.weight\"][inicio:fin, :] = estado_fase_0[\"linear_relu_stack.4.weight\"][inicio:fin, :]\n",
    "estado_fase_1[\"linear_relu_stack.4.bias\"][inicio:fin] = estado_fase_0[\"linear_relu_stack.4.bias\"][inicio:fin]\n"
   ]
  },
  {
   "cell_type": "code",
   "execution_count": 18,
   "metadata": {},
   "outputs": [
    {
     "data": {
      "text/plain": [
       "<All keys matched successfully>"
      ]
     },
     "execution_count": 18,
     "metadata": {},
     "output_type": "execute_result"
    }
   ],
   "source": [
    "\n",
    "# Crear el modelo Fase_1 y cargar sus estados actualizados\n",
    "model_classifier0_features1 = NeuralNetwork().to(device)\n",
    "model_classifier0_features1.load_state_dict(estado_fase_1)\n",
    "\n"
   ]
  },
  {
   "cell_type": "markdown",
   "metadata": {},
   "source": [
    "### Tunieando el ultimo clasificador"
   ]
  },
  {
   "cell_type": "code",
   "execution_count": 56,
   "metadata": {},
   "outputs": [],
   "source": [
    "completo = torch.load(\"Completo.pth\")\n",
    "estado_fase_1 = torch.load('Fase_1.pth')"
   ]
  },
  {
   "cell_type": "code",
   "execution_count": 57,
   "metadata": {},
   "outputs": [],
   "source": [
    "\n",
    "inicio, fin = 0, 10\n",
    "# Transferir el clasificador de Fase_0 a Fase_1\n",
    "estado_fase_1[\"linear_relu_stack.4.weight\"][inicio:fin, :] = completo[\"linear_relu_stack.4.weight\"][inicio:fin, :]\n",
    "estado_fase_1[\"linear_relu_stack.4.bias\"][inicio:fin] = completo[\"linear_relu_stack.4.bias\"][inicio:fin]\n"
   ]
  },
  {
   "cell_type": "code",
   "execution_count": 58,
   "metadata": {},
   "outputs": [
    {
     "data": {
      "text/plain": [
       "<All keys matched successfully>"
      ]
     },
     "execution_count": 58,
     "metadata": {},
     "output_type": "execute_result"
    }
   ],
   "source": [
    "# Crear el modelo Fase_1 y cargar sus estados actualizado\n",
    "model_last_tune = NeuralNetwork().to(device)\n",
    "model_last_tune.load_state_dict(estado_fase_1)"
   ]
  },
  {
   "cell_type": "markdown",
   "metadata": {},
   "source": [
    "### Tunieando el primer clasificador"
   ]
  },
  {
   "cell_type": "code",
   "execution_count": 63,
   "metadata": {},
   "outputs": [],
   "source": [
    "completo = torch.load(\"Completo.pth\")\n",
    "estado_fase_0 = torch.load('Fase_0.pth')"
   ]
  },
  {
   "cell_type": "code",
   "execution_count": 64,
   "metadata": {},
   "outputs": [],
   "source": [
    "inicio, fin = 0, 10\n",
    "# Transferir el clasificador de Fase_0 a Fase_1\n",
    "estado_fase_0[\"linear_relu_stack.4.weight\"][inicio:fin, :] = completo[\"linear_relu_stack.4.weight\"][inicio:fin, :]\n",
    "estado_fase_0[\"linear_relu_stack.4.bias\"][inicio:fin] = completo[\"linear_relu_stack.4.bias\"][inicio:fin]\n"
   ]
  },
  {
   "cell_type": "code",
   "execution_count": 65,
   "metadata": {},
   "outputs": [
    {
     "data": {
      "text/plain": [
       "<All keys matched successfully>"
      ]
     },
     "execution_count": 65,
     "metadata": {},
     "output_type": "execute_result"
    }
   ],
   "source": [
    "# Crear el modelo Fase_1 y cargar sus estados actualizado\n",
    "model_first_tune = NeuralNetwork().to(device)\n",
    "model_first_tune.load_state_dict(estado_fase_0)"
   ]
  },
  {
   "cell_type": "code",
   "execution_count": 66,
   "metadata": {},
   "outputs": [],
   "source": [
    "def test_loop(dataloader, model, loss_fn):\n",
    "    # Set the model to evaluation mode - important for batch normalization and dropout layers\n",
    "    # Unnecessary in this situation but added for best practices\n",
    "    model.eval()\n",
    "    size = len(dataloader.dataset)\n",
    "    num_batches = len(dataloader)\n",
    "    test_loss, correct = 0, 0\n",
    "    tarjet_prediction = []  # Lista para almacenar las etiquetas reales y predicciones\n",
    "\n",
    "    # Evaluating the model with torch.no_grad() ensures that no gradients are computed during test mode\n",
    "    # also serves to reduce unnecessary gradient computations and memory usage for tensors with requires_grad=True\n",
    "    with torch.no_grad():\n",
    "        for X, y in dataloader:\n",
    "            X, y = X.to(device), y.to(device)\n",
    "            pred = model(X)\n",
    "            test_loss += loss_fn(pred, y).item()\n",
    "            correct += (pred.argmax(1) == y).type(torch.float).sum().item()\n",
    "\n",
    "            # Guardar la etiqueta real y la predicción en la lista de tuplas\n",
    "            tarjet_prediction.extend(list(zip(y.cpu().numpy(), pred.argmax(1).cpu().numpy())))\n",
    "\n",
    "    test_loss /= num_batches\n",
    "    correct /= size\n",
    "    log_accuracy_loss.append((100*correct, test_loss))\n",
    "    print(f\"Test Error: \\n Accuracy: {(100*correct):>0.1f}%, Avg loss: {test_loss:>8f} \\n\")\n",
    "\n",
    "    with open(f'tune_first_classifier.txt', 'w') as archivo:\n",
    "            # Escribe el valor de la variable en el archivo\n",
    "            archivo.write(str(tarjet_prediction))\n",
    "    print(f'El valor prediciones se ha guardado en el archivo.txt')\n",
    "    "
   ]
  },
  {
   "cell_type": "code",
   "execution_count": 67,
   "metadata": {},
   "outputs": [
    {
     "name": "stdout",
     "output_type": "stream",
     "text": [
      "Se cargaron los datos correctamente\n"
     ]
    }
   ],
   "source": [
    "eval_data = torchvision.datasets.MNIST(\n",
    "    root=\"../data\",\n",
    "    train=False,\n",
    "    download=True,\n",
    "    transform=transforms.ToTensor()\n",
    ")\n",
    "eval_dataloader = DataLoader(eval_data, batch_size=10000, shuffle=True)\n",
    "print(\"Se cargaron los datos correctamente\")"
   ]
  },
  {
   "cell_type": "code",
   "execution_count": 68,
   "metadata": {},
   "outputs": [
    {
     "name": "stdout",
     "output_type": "stream",
     "text": [
      "Test Error: \n",
      " Accuracy: 7.3%, Avg loss: 2.539420 \n",
      "\n",
      "El valor prediciones se ha guardado en el archivo.txt\n"
     ]
    }
   ],
   "source": [
    "learning_rate = 1e-3\n",
    "# Initialize the loss function\n",
    "loss_fn = nn.CrossEntropyLoss()\n",
    "optimizer = torch.optim.SGD(model_first_tune.parameters(), lr=learning_rate)\n",
    "epochs = 1\n",
    "log_accuracy_loss = []\n",
    "test_loop(eval_dataloader, model_first_tune, loss_fn)\n"
   ]
  }
 ],
 "metadata": {
  "kernelspec": {
   "display_name": "cil",
   "language": "python",
   "name": "python3"
  },
  "language_info": {
   "codemirror_mode": {
    "name": "ipython",
    "version": 3
   },
   "file_extension": ".py",
   "mimetype": "text/x-python",
   "name": "python",
   "nbconvert_exporter": "python",
   "pygments_lexer": "ipython3",
   "version": "3.11.5"
  },
  "orig_nbformat": 4
 },
 "nbformat": 4,
 "nbformat_minor": 2
}
