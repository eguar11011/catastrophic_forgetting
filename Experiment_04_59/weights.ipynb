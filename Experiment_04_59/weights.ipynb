{
 "cells": [
  {
   "cell_type": "code",
   "execution_count": 5,
   "metadata": {},
   "outputs": [],
   "source": [
    "import torch"
   ]
  },
  {
   "cell_type": "code",
   "execution_count": 13,
   "metadata": {},
   "outputs": [],
   "source": [
    "device = \"cuda\"\n",
    "# Cargar los estados de los modelos\n",
    "estado_fase_0 = torch.load('Fase_0.pth')\n",
    "estado_fase_1 = torch.load('Fase_1.pth')\n",
    "total = torch.load('Total.pth')"
   ]
  },
  {
   "cell_type": "code",
   "execution_count": 7,
   "metadata": {},
   "outputs": [
    {
     "name": "stdout",
     "output_type": "stream",
     "text": [
      "[(0, tensor(1.6721, device='cuda:0')),\n",
      " (1, tensor(1.6825, device='cuda:0')),\n",
      " (2, tensor(1.9504, device='cuda:0')),\n",
      " (3, tensor(1.8717, device='cuda:0')),\n",
      " (4, tensor(1.8533, device='cuda:0')),\n",
      " (5, tensor(2.0709, device='cuda:0')),\n",
      " (6, tensor(1.7862, device='cuda:0')),\n",
      " (7, tensor(1.9132, device='cuda:0')),\n",
      " (8, tensor(1.8989, device='cuda:0')),\n",
      " (9, tensor(1.9440, device='cuda:0'))]\n"
     ]
    }
   ],
   "source": [
    "from pprint import pprint\n",
    "pprint([(indice ,torch.norm(row) ) for indice ,row in enumerate(total[\"linear_relu_stack.4.weight\"])])\n"
   ]
  },
  {
   "cell_type": "code",
   "execution_count": 8,
   "metadata": {},
   "outputs": [
    {
     "name": "stdout",
     "output_type": "stream",
     "text": [
      "[(0, tensor(1.0885, device='cuda:0')),\n",
      " (1, tensor(1.1788, device='cuda:0')),\n",
      " (2, tensor(1.0828, device='cuda:0')),\n",
      " (3, tensor(1.0519, device='cuda:0')),\n",
      " (4, tensor(1.0918, device='cuda:0')),\n",
      " (5, tensor(1.1024, device='cuda:0')),\n",
      " (6, tensor(1.1892, device='cuda:0')),\n",
      " (7, tensor(1.2835, device='cuda:0')),\n",
      " (8, tensor(1.0450, device='cuda:0')),\n",
      " (9, tensor(1.1354, device='cuda:0'))]\n",
      "[(0, tensor(1.1791, device='cuda:0')),\n",
      " (1, tensor(1.2430, device='cuda:0')),\n",
      " (2, tensor(1.1531, device='cuda:0')),\n",
      " (3, tensor(1.1304, device='cuda:0')),\n",
      " (4, tensor(1.2186, device='cuda:0')),\n",
      " (5, tensor(0.6317, device='cuda:0')),\n",
      " (6, tensor(0.6541, device='cuda:0')),\n",
      " (7, tensor(0.6602, device='cuda:0')),\n",
      " (8, tensor(0.6607, device='cuda:0')),\n",
      " (9, tensor(0.6392, device='cuda:0'))]\n"
     ]
    }
   ],
   "source": [
    "\n",
    "pprint([ (indice,torch.norm(row)) for indice,row in enumerate(estado_fase_1[\"linear_relu_stack.4.weight\"])])\n",
    "\n",
    "pprint([ (indice,torch.norm(row)) for indice,row in enumerate(estado_fase_0[\"linear_relu_stack.4.weight\"])])\n"
   ]
  },
  {
   "cell_type": "code",
   "execution_count": 14,
   "metadata": {},
   "outputs": [
    {
     "name": "stdout",
     "output_type": "stream",
     "text": [
      "tensor([-0.1553,  0.1768,  0.0250, -0.1029, -0.0096,  0.2021, -0.0447,  0.0962,\n",
      "        -0.1736, -0.0115], device='cuda:0')\n",
      "tensor([ 0.0024,  0.2560,  0.0607,  0.0721,  0.2004, -0.1442, -0.1317, -0.0835,\n",
      "        -0.0938, -0.1330], device='cuda:0')\n",
      "tensor([-0.0682,  0.1950, -0.0023,  0.0098,  0.1108,  0.0057, -0.0663,  0.0773,\n",
      "        -0.1807, -0.0756], device='cuda:0')\n"
     ]
    }
   ],
   "source": [
    "print(total[\"linear_relu_stack.4.bias\"])\n",
    "print(estado_fase_0[\"linear_relu_stack.4.bias\"])\n",
    "print(estado_fase_1[\"linear_relu_stack.4.bias\"])\n"
   ]
  },
  {
   "cell_type": "code",
   "execution_count": 15,
   "metadata": {},
   "outputs": [
    {
     "name": "stdout",
     "output_type": "stream",
     "text": [
      "tensor(0.3861, device='cuda:0')\n",
      "tensor(0.4315, device='cuda:0')\n",
      "tensor(0.3222, device='cuda:0')\n"
     ]
    }
   ],
   "source": [
    "print(torch.norm(total[\"linear_relu_stack.4.bias\"]))\n",
    "print(torch.norm(estado_fase_0[\"linear_relu_stack.4.bias\"]))\n",
    "print(torch.norm(estado_fase_1[\"linear_relu_stack.4.bias\"]))"
   ]
  },
  {
   "cell_type": "markdown",
   "metadata": {},
   "source": [
    "### Model stack"
   ]
  },
  {
   "cell_type": "code",
   "execution_count": 5,
   "metadata": {},
   "outputs": [],
   "source": [
    "import torch\n",
    "from pprint import pprint"
   ]
  },
  {
   "cell_type": "code",
   "execution_count": 21,
   "metadata": {},
   "outputs": [],
   "source": [
    "estado_fase_0_stack = torch.load('Fase_0_stack.pth')\n",
    "estado_fase_1_stack = torch.load('Fase_1_stack.pth')\n",
    "total = torch.load('Total.pth')"
   ]
  },
  {
   "cell_type": "code",
   "execution_count": 16,
   "metadata": {},
   "outputs": [
    {
     "name": "stdout",
     "output_type": "stream",
     "text": [
      "[(0, tensor(1.0750, device='cuda:0')),\n",
      " (1, tensor(1.1154, device='cuda:0')),\n",
      " (2, tensor(0.9266, device='cuda:0')),\n",
      " (3, tensor(0.9677, device='cuda:0')),\n",
      " (4, tensor(1.0389, device='cuda:0')),\n",
      " (5, tensor(0.9462, device='cuda:0')),\n",
      " (6, tensor(1.0555, device='cuda:0')),\n",
      " (7, tensor(1.0802, device='cuda:0')),\n",
      " (8, tensor(0.8017, device='cuda:0')),\n",
      " (9, tensor(0.9035, device='cuda:0'))]\n",
      "[(0, tensor(1.0778, device='cuda:0')),\n",
      " (1, tensor(1.1147, device='cuda:0')),\n",
      " (2, tensor(0.9247, device='cuda:0')),\n",
      " (3, tensor(0.9733, device='cuda:0')),\n",
      " (4, tensor(1.0547, device='cuda:0'))]\n"
     ]
    }
   ],
   "source": [
    "\n",
    "pprint([ (indice,torch.norm(row)) for indice,row in enumerate(estado_fase_1_stack[\"linear_relu_stack.4.weight\"])])\n",
    "\n",
    "pprint([ (indice,torch.norm(row)) for indice,row in enumerate(estado_fase_0_stack[\"linear_relu_stack.4.weight\"])])\n"
   ]
  },
  {
   "cell_type": "code",
   "execution_count": 11,
   "metadata": {},
   "outputs": [
    {
     "name": "stdout",
     "output_type": "stream",
     "text": [
      "[(0, tensor(1.6721, device='cuda:0')),\n",
      " (1, tensor(1.6825, device='cuda:0')),\n",
      " (2, tensor(1.9504, device='cuda:0')),\n",
      " (3, tensor(1.8717, device='cuda:0')),\n",
      " (4, tensor(1.8533, device='cuda:0')),\n",
      " (5, tensor(2.0709, device='cuda:0')),\n",
      " (6, tensor(1.7862, device='cuda:0')),\n",
      " (7, tensor(1.9132, device='cuda:0')),\n",
      " (8, tensor(1.8989, device='cuda:0')),\n",
      " (9, tensor(1.9440, device='cuda:0'))]\n"
     ]
    }
   ],
   "source": [
    "pprint([(indice ,torch.norm(row) ) for indice ,row in enumerate(total[\"linear_relu_stack.4.weight\"])])\n"
   ]
  },
  {
   "cell_type": "markdown",
   "metadata": {},
   "source": [
    "### Comparativa"
   ]
  },
  {
   "cell_type": "code",
   "execution_count": 22,
   "metadata": {},
   "outputs": [
    {
     "name": "stdout",
     "output_type": "stream",
     "text": [
      "[(0, tensor(1.0778, device='cuda:0')),\n",
      " (1, tensor(1.1147, device='cuda:0')),\n",
      " (2, tensor(0.9247, device='cuda:0')),\n",
      " (3, tensor(0.9733, device='cuda:0')),\n",
      " (4, tensor(1.0547, device='cuda:0'))]\n",
      "[(0, tensor(1.1791, device='cuda:0')),\n",
      " (1, tensor(1.2430, device='cuda:0')),\n",
      " (2, tensor(1.1531, device='cuda:0')),\n",
      " (3, tensor(1.1304, device='cuda:0')),\n",
      " (4, tensor(1.2186, device='cuda:0')),\n",
      " (5, tensor(0.6317, device='cuda:0')),\n",
      " (6, tensor(0.6541, device='cuda:0')),\n",
      " (7, tensor(0.6602, device='cuda:0')),\n",
      " (8, tensor(0.6607, device='cuda:0')),\n",
      " (9, tensor(0.6392, device='cuda:0'))]\n"
     ]
    }
   ],
   "source": [
    "pprint([ (indice,torch.norm(row)) for indice,row in enumerate(estado_fase_0_stack[\"linear_relu_stack.4.weight\"])])\n",
    "pprint([ (indice,torch.norm(row)) for indice,row in enumerate(estado_fase_0[\"linear_relu_stack.4.weight\"])])"
   ]
  },
  {
   "cell_type": "code",
   "execution_count": 18,
   "metadata": {},
   "outputs": [
    {
     "name": "stdout",
     "output_type": "stream",
     "text": [
      "[(0, tensor(1.0750, device='cuda:0')),\n",
      " (1, tensor(1.1154, device='cuda:0')),\n",
      " (2, tensor(0.9266, device='cuda:0')),\n",
      " (3, tensor(0.9677, device='cuda:0')),\n",
      " (4, tensor(1.0389, device='cuda:0')),\n",
      " (5, tensor(0.9462, device='cuda:0')),\n",
      " (6, tensor(1.0555, device='cuda:0')),\n",
      " (7, tensor(1.0802, device='cuda:0')),\n",
      " (8, tensor(0.8017, device='cuda:0')),\n",
      " (9, tensor(0.9035, device='cuda:0'))]\n",
      "[(0, tensor(1.0885, device='cuda:0')),\n",
      " (1, tensor(1.1788, device='cuda:0')),\n",
      " (2, tensor(1.0828, device='cuda:0')),\n",
      " (3, tensor(1.0519, device='cuda:0')),\n",
      " (4, tensor(1.0918, device='cuda:0')),\n",
      " (5, tensor(1.1024, device='cuda:0')),\n",
      " (6, tensor(1.1892, device='cuda:0')),\n",
      " (7, tensor(1.2835, device='cuda:0')),\n",
      " (8, tensor(1.0450, device='cuda:0')),\n",
      " (9, tensor(1.1354, device='cuda:0'))]\n"
     ]
    }
   ],
   "source": [
    "pprint([ (indice,torch.norm(row)) for indice,row in enumerate(estado_fase_1_stack[\"linear_relu_stack.4.weight\"])])\n",
    "pprint([ (indice,torch.norm(row)) for indice,row in enumerate(estado_fase_1[\"linear_relu_stack.4.weight\"])])"
   ]
  },
  {
   "cell_type": "code",
   "execution_count": 19,
   "metadata": {},
   "outputs": [
    {
     "name": "stdout",
     "output_type": "stream",
     "text": [
      "[(0, tensor(1.6721, device='cuda:0')),\n",
      " (1, tensor(1.6825, device='cuda:0')),\n",
      " (2, tensor(1.9504, device='cuda:0')),\n",
      " (3, tensor(1.8717, device='cuda:0')),\n",
      " (4, tensor(1.8533, device='cuda:0')),\n",
      " (5, tensor(2.0709, device='cuda:0')),\n",
      " (6, tensor(1.7862, device='cuda:0')),\n",
      " (7, tensor(1.9132, device='cuda:0')),\n",
      " (8, tensor(1.8989, device='cuda:0')),\n",
      " (9, tensor(1.9440, device='cuda:0'))]\n"
     ]
    }
   ],
   "source": [
    "pprint([(indice ,torch.norm(row) ) for indice ,row in enumerate(total[\"linear_relu_stack.4.weight\"])])\n"
   ]
  }
 ],
 "metadata": {
  "kernelspec": {
   "display_name": "torch",
   "language": "python",
   "name": "python3"
  },
  "language_info": {
   "codemirror_mode": {
    "name": "ipython",
    "version": 3
   },
   "file_extension": ".py",
   "mimetype": "text/x-python",
   "name": "python",
   "nbconvert_exporter": "python",
   "pygments_lexer": "ipython3",
   "version": "3.11.5"
  },
  "orig_nbformat": 4
 },
 "nbformat": 4,
 "nbformat_minor": 2
}
