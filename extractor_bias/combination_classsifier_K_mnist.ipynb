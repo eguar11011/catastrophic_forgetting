{
 "cells": [
  {
   "cell_type": "code",
   "execution_count": 1,
   "metadata": {},
   "outputs": [],
   "source": [
    "import torchvision\n",
    "from torchvision import transforms\n",
    "import torch\n",
    "from torch import nn\n",
    "from torch.utils.data import DataLoader\n",
    "import os"
   ]
  },
  {
   "cell_type": "code",
   "execution_count": 41,
   "metadata": {},
   "outputs": [
    {
     "name": "stdout",
     "output_type": "stream",
     "text": [
      "True\n"
     ]
    }
   ],
   "source": [
    "class NeuralNetwork(nn.Module):\n",
    "    def __init__(self):\n",
    "        super().__init__()\n",
    "        self.flatten = nn.Flatten()\n",
    "        self.linear_relu_stack = nn.Sequential(\n",
    "            nn.Linear(28*28, 512),\n",
    "            nn.ReLU(),\n",
    "            nn.Linear(512, 512),\n",
    "            nn.ReLU(),\n",
    "            nn.Linear(512, 10),\n",
    "        )\n",
    "\n",
    "    def forward(self, x):\n",
    "        x = self.flatten(x)\n",
    "        logits = self.linear_relu_stack(x)\n",
    "        return logits\n",
    "print(torch.cuda.is_available())\n",
    "device = \"cuda:0\"\n",
    "name = \"K_mnist\""
   ]
  },
  {
   "cell_type": "code",
   "execution_count": 42,
   "metadata": {},
   "outputs": [],
   "source": [
    "# Cargar los estados de los modelos\n",
    "estado_fase_0 = torch.load('Fase_0_K_mnist.pth')\n",
    "estado_fase_1 = torch.load('Fase_1_K_mnist.pth')\n"
   ]
  },
  {
   "cell_type": "code",
   "execution_count": 43,
   "metadata": {},
   "outputs": [
    {
     "name": "stdout",
     "output_type": "stream",
     "text": [
      "tensor([[ 0.0467, -0.0436, -0.0520,  ..., -0.0072,  0.0159, -0.0434],\n",
      "        [-0.0193, -0.0183, -0.0475,  ...,  0.0255,  0.0287, -0.0241],\n",
      "        [ 0.0035, -0.0295,  0.0244,  ..., -0.0839,  0.0592, -0.0232],\n",
      "        ...,\n",
      "        [ 0.0342,  0.0853, -0.0248,  ..., -0.0501, -0.0051,  0.0596],\n",
      "        [-0.0463,  0.0192,  0.0688,  ..., -0.0521, -0.0098, -0.0415],\n",
      "        [ 0.0554, -0.0577, -0.0438,  ...,  0.0010, -0.0382, -0.0468]],\n",
      "       device='cuda:0')\n",
      "tensor([-0.0302,  0.1261,  0.1129,  0.1251, -0.1550,  0.0587, -0.0835, -0.1828,\n",
      "         0.0273, -0.0179], device='cuda:0')\n"
     ]
    }
   ],
   "source": [
    "print(estado_fase_1[\"linear_relu_stack.4.weight\"])\n",
    "print(estado_fase_1[\"linear_relu_stack.4.bias\"])"
   ]
  },
  {
   "cell_type": "markdown",
   "metadata": {},
   "source": [
    "## Change f_0(5-9) to f_1(5-9) MODEL 1"
   ]
  },
  {
   "cell_type": "code",
   "execution_count": 17,
   "metadata": {},
   "outputs": [],
   "source": [
    "\n",
    "estado_fase_1[\"linear_relu_stack.4.weight\"][5:10, :] = estado_fase_0[\"linear_relu_stack.4.weight\"][5:10, :]\n",
    "estado_fase_1[\"linear_relu_stack.4.bias\"][5:10] = estado_fase_0[\"linear_relu_stack.4.bias\"][5:10]\n",
    "\n",
    "txt = f\"logs/preditions_combination_classifier_f1_0_4_f0_5_9_F1_{name}.txt\""
   ]
  },
  {
   "cell_type": "code",
   "execution_count": 18,
   "metadata": {},
   "outputs": [
    {
     "data": {
      "text/plain": [
       "<All keys matched successfully>"
      ]
     },
     "execution_count": 18,
     "metadata": {},
     "output_type": "execute_result"
    }
   ],
   "source": [
    "\n",
    "model_classifier = NeuralNetwork().to(device)\n",
    "model_classifier.load_state_dict(estado_fase_1)"
   ]
  },
  {
   "cell_type": "markdown",
   "metadata": {},
   "source": [
    "## Change f_0(0-4) to f_1(0-4) MODEL 1"
   ]
  },
  {
   "cell_type": "code",
   "execution_count": 22,
   "metadata": {},
   "outputs": [],
   "source": [
    "# Cargar los estados de los modelos\n",
    "estado_fase_0 = torch.load('Fase_0_K_mnist.pth')\n",
    "estado_fase_1 = torch.load('Fase_1_K_mnist.pth')\n"
   ]
  },
  {
   "cell_type": "code",
   "execution_count": 23,
   "metadata": {},
   "outputs": [],
   "source": [
    "\n",
    "# Transferir el clasificador de Fase_0 a Fase_1\n",
    "a, b = 0, 5\n",
    "estado_fase_1[\"linear_relu_stack.4.weight\"][a:b, :] = estado_fase_0[\"linear_relu_stack.4.weight\"][a:b, :]\n",
    "estado_fase_1[\"linear_relu_stack.4.bias\"][a:b] = estado_fase_0[\"linear_relu_stack.4.bias\"][a:b]\n",
    "\n",
    "txt = f\"logs/preditions_combination_classifier_f0_0_4_f1_5_9_F1_{name}.txt\""
   ]
  },
  {
   "cell_type": "code",
   "execution_count": 24,
   "metadata": {},
   "outputs": [
    {
     "data": {
      "text/plain": [
       "<All keys matched successfully>"
      ]
     },
     "execution_count": 24,
     "metadata": {},
     "output_type": "execute_result"
    }
   ],
   "source": [
    "\n",
    "model_classifier = NeuralNetwork().to(device)\n",
    "model_classifier.load_state_dict(estado_fase_1)"
   ]
  },
  {
   "cell_type": "markdown",
   "metadata": {},
   "source": [
    "## Change f_1(0-4) to f_0(0,4) MODEL 0"
   ]
  },
  {
   "cell_type": "code",
   "execution_count": 44,
   "metadata": {},
   "outputs": [],
   "source": [
    "# Cargar los estados de los modelos\n",
    "estado_fase_0 = torch.load('Fase_0_K_mnist.pth')\n",
    "estado_fase_1 = torch.load('Fase_1_K_mnist.pth')"
   ]
  },
  {
   "cell_type": "code",
   "execution_count": 45,
   "metadata": {},
   "outputs": [],
   "source": [
    "\n",
    "a, b = 0, 5\n",
    "estado_fase_0[\"linear_relu_stack.4.weight\"][a:b, :] = estado_fase_1[\"linear_relu_stack.4.weight\"][a:b, :]\n",
    "estado_fase_0[\"linear_relu_stack.4.bias\"][a:b] = estado_fase_1[\"linear_relu_stack.4.bias\"][a:b]\n",
    "\n",
    "txt = f\"logs/preditions_combination_classifier_f1_0_4_f0_5_9_F0_{name}.txt\""
   ]
  },
  {
   "cell_type": "code",
   "execution_count": 46,
   "metadata": {},
   "outputs": [
    {
     "data": {
      "text/plain": [
       "<All keys matched successfully>"
      ]
     },
     "execution_count": 46,
     "metadata": {},
     "output_type": "execute_result"
    }
   ],
   "source": [
    "model_classifier = NeuralNetwork().to(device)\n",
    "model_classifier.load_state_dict(estado_fase_0)"
   ]
  },
  {
   "cell_type": "markdown",
   "metadata": {},
   "source": [
    "## Change f_1(5-9) to f_1(5-9) MODEL 0"
   ]
  },
  {
   "cell_type": "code",
   "execution_count": 48,
   "metadata": {},
   "outputs": [],
   "source": [
    "# Cargar los estados de los modelos\n",
    "estado_fase_0 = torch.load('Fase_0_K_mnist.pth')\n",
    "estado_fase_1 = torch.load('Fase_1_K_mnist.pth')"
   ]
  },
  {
   "cell_type": "code",
   "execution_count": 49,
   "metadata": {},
   "outputs": [],
   "source": [
    "\n",
    "# Transferir el clasificador de Fase_0 a Fase_1\n",
    "a, b = 5, 10\n",
    "estado_fase_0[\"linear_relu_stack.4.weight\"][a:b, :] = estado_fase_1[\"linear_relu_stack.4.weight\"][a:b, :]\n",
    "estado_fase_0[\"linear_relu_stack.4.bias\"][a:b] = estado_fase_1[\"linear_relu_stack.4.bias\"][a:b]\n",
    "\n",
    "txt = f\"logs/preditions_combination_classifier_f0_0_4_f1_5_9_F0_{name}.txt\""
   ]
  },
  {
   "cell_type": "code",
   "execution_count": 50,
   "metadata": {},
   "outputs": [
    {
     "data": {
      "text/plain": [
       "<All keys matched successfully>"
      ]
     },
     "execution_count": 50,
     "metadata": {},
     "output_type": "execute_result"
    }
   ],
   "source": [
    "\n",
    "model_classifier = NeuralNetwork().to(device)\n",
    "model_classifier.load_state_dict(estado_fase_0)"
   ]
  },
  {
   "cell_type": "markdown",
   "metadata": {},
   "source": [
    "### Evaluación"
   ]
  },
  {
   "cell_type": "code",
   "execution_count": 34,
   "metadata": {},
   "outputs": [],
   "source": [
    "def test_loop(dataloader, model, loss_fn, txt):\n",
    "    # Set the model to evaluation mode - important for batch normalization and dropout layers\n",
    "    # Unnecessary in this situation but added for best practices\n",
    "    model.eval()\n",
    "    size = len(dataloader.dataset)\n",
    "    num_batches = len(dataloader)\n",
    "    test_loss, correct = 0, 0\n",
    "    tarjet_prediction = []  # Lista para almacenar las etiquetas reales y predicciones\n",
    "\n",
    "    # Evaluating the model with torch.no_grad() ensures that no gradients are computed during test mode\n",
    "    # also serves to reduce unnecessary gradient computations and memory usage for tensors with requires_grad=True\n",
    "    with torch.no_grad():\n",
    "        for X, y in dataloader:\n",
    "            X, y = X.to(device), y.to(device)\n",
    "            pred = model(X)\n",
    "            test_loss += loss_fn(pred, y).item()\n",
    "            correct += (pred.argmax(1) == y).type(torch.float).sum().item()\n",
    "\n",
    "            # Guardar la etiqueta real y la predicción en la lista de tuplas\n",
    "            tarjet_prediction.extend(list(zip(y.cpu().numpy(), pred.argmax(1).cpu().numpy())))\n",
    "\n",
    "    test_loss /= num_batches\n",
    "    correct /= size\n",
    "    log_accuracy_loss.append((100*correct, test_loss))\n",
    "    print(f\"Test Error: \\n Accuracy: {(100*correct):>0.1f}%, Avg loss: {test_loss:>8f} \\n\")\n",
    "    \n",
    "\n",
    "    with open(f'{txt}', 'w') as archivo:\n",
    "            # Escribe el valor de la variable en el archivo\n",
    "            archivo.write(str(tarjet_prediction))\n",
    "    print(f'El valor prediciones se ha guardado en el archivo.txt')\n",
    "    "
   ]
  },
  {
   "cell_type": "code",
   "execution_count": 35,
   "metadata": {},
   "outputs": [
    {
     "name": "stdout",
     "output_type": "stream",
     "text": [
      "Se cargaron los datos correctamente\n"
     ]
    }
   ],
   "source": [
    "eval_data = torchvision.datasets.KMNIST(\n",
    "    root=\"../data\",\n",
    "    train=False,\n",
    "    download=True,\n",
    "    transform=transforms.ToTensor()\n",
    ")\n",
    "eval_dataloader = DataLoader(eval_data, batch_size=10000, shuffle=True)\n",
    "print(\"Se cargaron los datos correctamente\")"
   ]
  },
  {
   "cell_type": "code",
   "execution_count": 51,
   "metadata": {},
   "outputs": [
    {
     "name": "stdout",
     "output_type": "stream",
     "text": [
      "Test Error: \n",
      " Accuracy: 40.6%, Avg loss: 2.919341 \n",
      "\n",
      "El valor prediciones se ha guardado en el archivo.txt\n"
     ]
    }
   ],
   "source": [
    "learning_rate = 1e-3\n",
    "# Initialize the loss function\n",
    "loss_fn = nn.CrossEntropyLoss()\n",
    "optimizer = torch.optim.SGD(model_classifier.parameters(), lr=learning_rate)\n",
    "epochs = 1\n",
    "log_accuracy_loss = []\n",
    "test_loop(eval_dataloader, model_classifier, loss_fn, txt)"
   ]
  }
 ],
 "metadata": {
  "kernelspec": {
   "display_name": "cil",
   "language": "python",
   "name": "python3"
  },
  "language_info": {
   "codemirror_mode": {
    "name": "ipython",
    "version": 3
   },
   "file_extension": ".py",
   "mimetype": "text/x-python",
   "name": "python",
   "nbconvert_exporter": "python",
   "pygments_lexer": "ipython3",
   "version": "3.11.5"
  },
  "orig_nbformat": 4
 },
 "nbformat": 4,
 "nbformat_minor": 2
}
