{
 "cells": [
  {
   "cell_type": "code",
   "execution_count": null,
   "metadata": {},
   "outputs": [],
   "source": [
    "import torchvision\n",
    "from torchvision import transforms\n",
    "import torch\n",
    "from torch import nn\n",
    "from torch.utils.data import DataLoader, Subset\n",
    "\n",
    "import os\n",
    "import torch.nn.functional as F\n",
    "import torchvision.models as models\n",
    "\n",
    "total_fase = 2 \n",
    "save_model = True\n",
    "load_model = False\n",
    "device = \"cuda\"\n",
    "data_dir = \"../data\" \n",
    "batch_size = 32\n",
    "\n",
    "print(\"GPU activa:\", torch.cuda.is_available(), \"\\nCantidad de GPs\", torch.cuda.device_count())\n",
    "#------------------------------------------------------------------------------------------------\n",
    "\n",
    "# Conjunto de datos MNIST\n",
    "train_data = torchvision.datasets.MNIST(\n",
    "    root=data_dir,\n",
    "    train=True,\n",
    "    download=True,\n",
    "    transform=transforms.ToTensor()\n",
    ")\n",
    "eval_data = torchvision.datasets.MNIST(\n",
    "    root=data_dir,\n",
    "    train=False,\n",
    "    download=True,\n",
    "    transform=transforms.ToTensor()\n",
    ")\n",
    "num_classes = 10  \n",
    "class_dataloaders = []\n",
    "\n",
    "# Itera sobre cada clase y crea un DataLoader para esa clase\n",
    "for class_idx in range(num_classes):\n",
    "    # Obtén los índices para la clase actual\n",
    "    class_indices = [i for i in range(len(train_data)) if train_data.targets[i] == class_idx]\n",
    "    \n",
    "    # Subconjunto de datos para la clase actual\n",
    "    class_subset = Subset(train_data, class_indices)\n",
    "    \n",
    "    # DataLoader para la clase actual\n",
    "    class_dataloader = DataLoader(class_subset, batch_size=batch_size, shuffle=True)\n",
    "    \n",
    "    # Agrega el DataLoader al listado\n",
    "    class_dataloaders.append(class_dataloader)\n",
    "\n",
    "\n",
    "eval_dataloader = DataLoader(eval_data, batch_size=10000, shuffle=True)\n",
    "print(\"Se cargaron los datos correctamente\")\n"
   ]
  },
  {
   "cell_type": "code",
   "execution_count": null,
   "metadata": {},
   "outputs": [],
   "source": [
    "# Definir una arquitectura de ResNet modificada para MNIST\n",
    "class ResNetMNIST(nn.Module):\n",
    "    def __init__(self):\n",
    "        super(ResNetMNIST, self).__init__()\n",
    "        self.resnet = torchvision.models.resnet18(pretrained=False)\n",
    "        # Cambiar la primera capa convolucional para aceptar imágenes en escala de grises\n",
    "        self.resnet.conv1 = nn.Conv2d(1, 64, kernel_size=7, stride=2, padding=3, bias=False)\n",
    "        # Cambiar la última capa lineal para tener 10 clases de salida\n",
    "        self.resnet.fc = nn.Identity()\n",
    "\n",
    "    def forward(self, x):\n",
    "        x = self.resnet(x)\n",
    "        return x\n",
    "\n",
    "# Inicializar el modelo ResNetMNIST\n",
    "model = ResNetMNIST(); model.to(\"cuda\")"
   ]
  },
  {
   "cell_type": "code",
   "execution_count": null,
   "metadata": {},
   "outputs": [],
   "source": [
    "class_dataloaders"
   ]
  },
  {
   "cell_type": "code",
   "execution_count": null,
   "metadata": {},
   "outputs": [],
   "source": [
    "def extractor(dataloader, model):\n",
    "    model.eval()\n",
    "    all_features = []\n",
    "    all_labels = []\n",
    "\n",
    "    with torch.no_grad():\n",
    "        for X, y in dataloader:\n",
    "            X, y = X.to(device), y.to(device)\n",
    "            # Obtener las características (vectores de características) del modelo\n",
    "            features = model(X)\n",
    "            all_features.append(features.cpu())\n",
    "            all_labels.append(y.cpu())\n",
    "\n",
    "    # Concatenar todas las características y etiquetas\n",
    "    all_features = torch.cat(all_features, dim=0)\n",
    "    all_labels = torch.cat(all_labels, dim=0)\n",
    "    \n",
    "    return all_features, all_labels"
   ]
  },
  {
   "cell_type": "markdown",
   "metadata": {},
   "source": [
    "### Generate embeddings with datatrain"
   ]
  },
  {
   "cell_type": "code",
   "execution_count": null,
   "metadata": {},
   "outputs": [],
   "source": [
    "model.eval()\n",
    "embedding = list()\n",
    "for data_i in class_dataloaders:\n",
    "    features, labels = extractor(data_i, model)\n",
    "    embedding.append((features, labels))"
   ]
  },
  {
   "cell_type": "code",
   "execution_count": 37,
   "metadata": {},
   "outputs": [],
   "source": [
    "def prototype(embedding):\n",
    "    return [ (torch.sum(pt[0], dim =0)/(pt[0].shape[0])).to(device) for pt in embedding ]"
   ]
  },
  {
   "cell_type": "markdown",
   "metadata": {},
   "source": [
    "### Esto deberían ser centroides entonces en dado caso de graficarlos deberian salir en el centro"
   ]
  },
  {
   "cell_type": "code",
   "execution_count": 38,
   "metadata": {},
   "outputs": [],
   "source": [
    "p_i = prototype(embedding)"
   ]
  },
  {
   "cell_type": "code",
   "execution_count": null,
   "metadata": {},
   "outputs": [],
   "source": [
    "[(idx ,i) for idx, i in enumerate(p_i)]"
   ]
  },
  {
   "cell_type": "code",
   "execution_count": 73,
   "metadata": {},
   "outputs": [
    {
     "data": {
      "text/plain": [
       "512"
      ]
     },
     "execution_count": 73,
     "metadata": {},
     "output_type": "execute_result"
    }
   ],
   "source": [
    "p_i[0].size(0)"
   ]
  },
  {
   "cell_type": "markdown",
   "metadata": {},
   "source": [
    "### Clasificacion"
   ]
  },
  {
   "cell_type": "code",
   "execution_count": 76,
   "metadata": {},
   "outputs": [],
   "source": [
    "def classifier(p_i, images):\n",
    "    num_images = images.size(0)\n",
    "    num_p_i = p_i[0].size(0)\n",
    "    predictions = torch.zeros(num_images, dtype=torch.long)\n",
    "    \n",
    "    for i in range(num_images):\n",
    "        min_distance, predict = float(\"inf\"), None\n",
    "        for idx in range(10):\n",
    "            distance = torch.norm(p_i[idx] - images[i])\n",
    "            if distance < min_distance:\n",
    "                min_distance = distance\n",
    "                predict = idx\n",
    "        predictions[i] = predict\n",
    "    \n",
    "    return predictions"
   ]
  },
  {
   "cell_type": "code",
   "execution_count": null,
   "metadata": {},
   "outputs": [],
   "source": [
    "classifier(p_i, embedding[1][0][0])"
   ]
  },
  {
   "cell_type": "code",
   "execution_count": 91,
   "metadata": {},
   "outputs": [],
   "source": [
    "def test_loop(dataloader, model, classifier, p_i):\n",
    "    # Set the model to evaluation mode - important for batch normalization and dropout layers\n",
    "    # Unnecessary in this situation but added for best practices\n",
    "    model.eval()\n",
    "    size = len(dataloader.dataset)\n",
    "    num_batches = len(dataloader)\n",
    "    test_loss, correct = 0, 0\n",
    "    tarjet_prediction = []  # Lista para almacenar las etiquetas reales y predicciones\n",
    "\n",
    "\n",
    "    with torch.no_grad():\n",
    "        for X, y in dataloader:\n",
    "            X, y = X.to(device), y.to(device)\n",
    "            embedding = model(X).to(device); # print(embedding.shape)\n",
    "            pred = classifier(p_i, embedding)\n",
    "            print(pred.shape, y.shape)\n",
    "            #test_loss += loss_fn(pred, y).item()\n",
    "            #correct += (pred == y).type(torch.float).sum().item()\n",
    "            tarjet_prediction.extend(list(zip(y.cpu().numpy(), pred.cpu().numpy())))\n",
    "\n",
    "    correct /= size\n",
    "    \n",
    "    directorio= 'logs'\n",
    "    if not os.path.exists(directorio):\n",
    "        os.makedirs(directorio)\n",
    "    with open(f'logs/epoch_{0}_CC_{0}.txt', 'w') as archivo:\n",
    "            # Escribe el valor de la variable en el archivo\n",
    "            archivo.write(str(tarjet_prediction))\n",
    "    print(f'El valor prediciones se ha guardado en el archivo.txt')"
   ]
  },
  {
   "cell_type": "code",
   "execution_count": 92,
   "metadata": {},
   "outputs": [
    {
     "name": "stdout",
     "output_type": "stream",
     "text": [
      "torch.Size([10000]) torch.Size([10000])\n",
      "El valor prediciones se ha guardado en el archivo.txt\n"
     ]
    }
   ],
   "source": [
    "epochs = 1\n",
    "\n",
    "log_accuracy_loss = []\n",
    "\n",
    "test_loop(eval_dataloader, model, classifier, p_i)\n"
   ]
  }
 ],
 "metadata": {
  "kernelspec": {
   "display_name": "cil",
   "language": "python",
   "name": "python3"
  },
  "language_info": {
   "codemirror_mode": {
    "name": "ipython",
    "version": 3
   },
   "file_extension": ".py",
   "mimetype": "text/x-python",
   "name": "python",
   "nbconvert_exporter": "python",
   "pygments_lexer": "ipython3",
   "version": "3.11.5"
  },
  "orig_nbformat": 4
 },
 "nbformat": 4,
 "nbformat_minor": 2
}
