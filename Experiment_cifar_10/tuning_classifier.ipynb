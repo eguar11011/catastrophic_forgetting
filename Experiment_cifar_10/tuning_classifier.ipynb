{
 "cells": [
  {
   "cell_type": "markdown",
   "metadata": {},
   "source": [
    "### Tuning model: es basicamente reentrenar el clasificador de la etapa 1. Para conocer cual es el mejor clasificador que se puede optener con el espacio de caracteristicas optenido.\n"
   ]
  },
  {
   "cell_type": "markdown",
   "metadata": {},
   "source": [
    "\n",
    "Notebook para ver como congelar los parametros que no queremos modificar."
   ]
  },
  {
   "cell_type": "code",
   "execution_count": 2,
   "metadata": {},
   "outputs": [
    {
     "data": {
      "text/plain": [
       "<All keys matched successfully>"
      ]
     },
     "execution_count": 2,
     "metadata": {},
     "output_type": "execute_result"
    }
   ],
   "source": [
    "import torch\n",
    "import torch.nn as nn\n",
    "\n",
    "\n",
    "class CNN(nn.Module):\n",
    "    def __init__(self):           \n",
    "        super(CNN, self).__init__()\n",
    "        self.conv1 = nn.Sequential( # input shape (3, 32, 32)\n",
    "        nn.Conv2d(\n",
    "        in_channels=3, # input height\n",
    "        out_channels=16, # n_filters\n",
    "        kernel_size=5, # filter size\n",
    "        stride=1, # filter movement/step\n",
    "        padding=2,\n",
    "        # if want same width and length of this image after con2d,\n",
    "        #padding=(kernel_size-1)/2 if stride=1\n",
    "        ), # output shape (16, 16, 16)\n",
    "        nn.ReLU(), # activation\n",
    "        nn.MaxPool2d(kernel_size=2),\n",
    "        # choose max value in 2x2 area, output shape (16, 14, 14)\n",
    "        )\n",
    "        self.conv2 = nn.Sequential( # input shape (16, 14, 14)\n",
    "        nn.Conv2d(16, 32, 5, 1, 2), # output shape (32, 8, 8)\n",
    "        nn.ReLU(), # activation\n",
    "        nn.MaxPool2d(2), # output shape (32, 7, 7)\n",
    "        )\n",
    "        self.linear_relu_stack = nn.Sequential(\n",
    "            nn.Linear(32 *8 *8, 512),\n",
    "            nn.ReLU(),\n",
    "            nn.Linear(512, 512),\n",
    "            nn.ReLU(),\n",
    "            nn.Linear(512, 10),\n",
    "        )\n",
    "        \n",
    "    def forward(self, x):\n",
    "        x = self.conv1(x)\n",
    "        x = self.conv2(x)\n",
    "        x = x.view(x.size(0), -1)\n",
    "        # flatten the output of conv2 to (batch_size, 32 * 8 * 8)\n",
    "        output = self.linear_relu_stack(x)\n",
    "        return output # return x for visualizatio\n",
    "\n",
    "# Crear instancia del modelo\n",
    "model = CNN()\n",
    "\n",
    "# Cargar el estado previamente guardado\n",
    "fase_1 = torch.load('Fase_1.pth')\n",
    "\n",
    "# Cargar los pesos al modelo\n",
    "model.load_state_dict(fase_1)"
   ]
  },
  {
   "cell_type": "markdown",
   "metadata": {},
   "source": [
    "Queremos congelar todas las capas menos las ultimas dos capas que son el bias y los pesos."
   ]
  },
  {
   "cell_type": "code",
   "execution_count": 5,
   "metadata": {},
   "outputs": [
    {
     "name": "stdout",
     "output_type": "stream",
     "text": [
      "10\n",
      "0 torch.Size([16, 3, 5, 5])\n",
      "1 torch.Size([16])\n",
      "2 torch.Size([32, 16, 5, 5])\n",
      "3 torch.Size([32])\n",
      "4 torch.Size([512, 2048])\n",
      "5 torch.Size([512])\n",
      "6 torch.Size([512, 512])\n",
      "7 torch.Size([512])\n",
      "8 torch.Size([10, 512])\n",
      "9 torch.Size([10])\n"
     ]
    }
   ],
   "source": [
    "print(len(fase_1))\n",
    "for x,i in enumerate(model.parameters()):\n",
    "    print(x,i.shape)"
   ]
  },
  {
   "cell_type": "code",
   "execution_count": 6,
   "metadata": {},
   "outputs": [],
   "source": [
    "for idx,layer in enumerate(model.parameters()):\n",
    "    if idx == len(fase_1) -2: break\n",
    "    layer.requires_grad = False"
   ]
  },
  {
   "cell_type": "code",
   "execution_count": 7,
   "metadata": {},
   "outputs": [
    {
     "name": "stdout",
     "output_type": "stream",
     "text": [
      "0 False\n",
      "1 False\n",
      "2 False\n",
      "3 False\n",
      "4 False\n",
      "5 False\n",
      "6 False\n",
      "7 False\n",
      "8 True\n",
      "9 True\n"
     ]
    }
   ],
   "source": [
    "# Verificar qué capas están congeladas\n",
    "for idx, capa in enumerate(model.parameters()):\n",
    "    print(idx,capa.requires_grad)"
   ]
  }
 ],
 "metadata": {
  "kernelspec": {
   "display_name": "torch",
   "language": "python",
   "name": "python3"
  },
  "language_info": {
   "codemirror_mode": {
    "name": "ipython",
    "version": 3
   },
   "file_extension": ".py",
   "mimetype": "text/x-python",
   "name": "python",
   "nbconvert_exporter": "python",
   "pygments_lexer": "ipython3",
   "version": "3.11.5"
  },
  "orig_nbformat": 4
 },
 "nbformat": 4,
 "nbformat_minor": 2
}
