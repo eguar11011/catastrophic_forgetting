{
 "cells": [
  {
   "cell_type": "markdown",
   "metadata": {},
   "source": [
    "# Estudio de los parametros del modelo\n"
   ]
  },
  {
   "cell_type": "markdown",
   "metadata": {},
   "source": [
    "Queremos hacer un analisis de todos los parametros de nuestros dos modelos. \n",
    "- Fase_0\n",
    "- Fase_1"
   ]
  },
  {
   "cell_type": "markdown",
   "metadata": {},
   "source": [
    "### Fase 1"
   ]
  },
  {
   "cell_type": "code",
   "execution_count": 1,
   "metadata": {},
   "outputs": [
    {
     "name": "stdout",
     "output_type": "stream",
     "text": [
      "True\n"
     ]
    }
   ],
   "source": [
    "import torch\n",
    "from pprint import pprint\n",
    "device = \"cuda\"\n",
    "print(torch.cuda.is_available())"
   ]
  },
  {
   "cell_type": "code",
   "execution_count": 2,
   "metadata": {},
   "outputs": [],
   "source": [
    "fase_1 = torch.load('Fase_1.pth')"
   ]
  },
  {
   "cell_type": "code",
   "execution_count": 3,
   "metadata": {},
   "outputs": [
    {
     "name": "stdout",
     "output_type": "stream",
     "text": [
      "Weights Norm:\n",
      "[(0, tensor(0.7632, device='cuda:0')),\n",
      " (1, tensor(0.8927, device='cuda:0')),\n",
      " (2, tensor(0.6978, device='cuda:0')),\n",
      " (3, tensor(0.7709, device='cuda:0')),\n",
      " (4, tensor(0.7388, device='cuda:0')),\n",
      " (5, tensor(0.7542, device='cuda:0')),\n",
      " (6, tensor(0.8815, device='cuda:0')),\n",
      " (7, tensor(0.8501, device='cuda:0')),\n",
      " (8, tensor(0.8227, device='cuda:0')),\n",
      " (9, tensor(0.7922, device='cuda:0'))]\n",
      "Bias:\n",
      "[(0, tensor(0.1504, device='cuda:0')),\n",
      " (1, tensor(0.0536, device='cuda:0')),\n",
      " (2, tensor(0.0348, device='cuda:0')),\n",
      " (3, tensor(0.0128, device='cuda:0')),\n",
      " (4, tensor(0.0966, device='cuda:0')),\n",
      " (5, tensor(0.0492, device='cuda:0')),\n",
      " (6, tensor(0.1298, device='cuda:0')),\n",
      " (7, tensor(0.0233, device='cuda:0')),\n",
      " (8, tensor(0.0427, device='cuda:0')),\n",
      " (9, tensor(0.0110, device='cuda:0'))]\n"
     ]
    }
   ],
   "source": [
    "print(\"Weights Norm:\")\n",
    "pprint([(indice ,torch.norm(row) ) for indice ,row in enumerate(fase_1[\"linear_relu_stack.4.weight\"])])\n",
    "print(\"Bias:\")\n",
    "pprint([(indice ,torch.norm(row) ) for indice ,row in enumerate(fase_1[\"linear_relu_stack.4.bias\"])])\n"
   ]
  },
  {
   "cell_type": "markdown",
   "metadata": {},
   "source": [
    "Las nuevas clases van de 5-9 tienen valores en [0.84, 0.94], mientras que las clases de la etapa pasada estan entre [0.90, 1.1]"
   ]
  },
  {
   "cell_type": "code",
   "execution_count": 4,
   "metadata": {},
   "outputs": [
    {
     "data": {
      "text/plain": [
       "torch.Size([512, 512])"
      ]
     },
     "execution_count": 4,
     "metadata": {},
     "output_type": "execute_result"
    }
   ],
   "source": [
    "fase_1[\"linear_relu_stack.2.weight\"].shape"
   ]
  },
  {
   "cell_type": "markdown",
   "metadata": {},
   "source": [
    "### Importante"
   ]
  },
  {
   "cell_type": "markdown",
   "metadata": {},
   "source": [
    "Que analisis se les puede hacer a estos parametros?"
   ]
  },
  {
   "cell_type": "markdown",
   "metadata": {},
   "source": [
    "### Fase 0"
   ]
  },
  {
   "cell_type": "code",
   "execution_count": 5,
   "metadata": {},
   "outputs": [],
   "source": [
    "fase_0 = torch.load(\"Fase_0.pth\")"
   ]
  },
  {
   "cell_type": "code",
   "execution_count": 6,
   "metadata": {},
   "outputs": [
    {
     "name": "stdout",
     "output_type": "stream",
     "text": [
      "Weights Norm:\n",
      "[(0, tensor(0.7549, device='cuda:0')),\n",
      " (1, tensor(0.8838, device='cuda:0')),\n",
      " (2, tensor(0.6786, device='cuda:0')),\n",
      " (3, tensor(0.7568, device='cuda:0')),\n",
      " (4, tensor(0.7224, device='cuda:0'))]\n",
      "Bias:\n",
      "[(0, tensor(0.1410, device='cuda:0')),\n",
      " (1, tensor(0.0673, device='cuda:0')),\n",
      " (2, tensor(0.0457, device='cuda:0')),\n",
      " (3, tensor(0.0004, device='cuda:0')),\n",
      " (4, tensor(0.1090, device='cuda:0'))]\n"
     ]
    }
   ],
   "source": [
    "print(\"Weights Norm:\")\n",
    "pprint([(indice ,torch.norm(row) ) for indice ,row in enumerate(fase_0[\"linear_relu_stack.4.weight\"])])\n",
    "print(\"Bias:\")\n",
    "pprint([(indice ,torch.norm(row) ) for indice ,row in enumerate(fase_0[\"linear_relu_stack.4.bias\"])])"
   ]
  },
  {
   "cell_type": "markdown",
   "metadata": {},
   "source": [
    "### Comparativa"
   ]
  },
  {
   "cell_type": "code",
   "execution_count": 7,
   "metadata": {},
   "outputs": [
    {
     "name": "stdout",
     "output_type": "stream",
     "text": [
      "Weights Norm: Fase 0\n",
      "[(0, tensor(0.7549, device='cuda:0')),\n",
      " (1, tensor(0.8838, device='cuda:0')),\n",
      " (2, tensor(0.6786, device='cuda:0')),\n",
      " (3, tensor(0.7568, device='cuda:0')),\n",
      " (4, tensor(0.7224, device='cuda:0'))]\n",
      "Weights Norm: Fase 1\n",
      "[(0, tensor(0.7632, device='cuda:0')),\n",
      " (1, tensor(0.8927, device='cuda:0')),\n",
      " (2, tensor(0.6978, device='cuda:0')),\n",
      " (3, tensor(0.7709, device='cuda:0')),\n",
      " (4, tensor(0.7388, device='cuda:0')),\n",
      " (5, tensor(0.7542, device='cuda:0')),\n",
      " (6, tensor(0.8815, device='cuda:0')),\n",
      " (7, tensor(0.8501, device='cuda:0')),\n",
      " (8, tensor(0.8227, device='cuda:0')),\n",
      " (9, tensor(0.7922, device='cuda:0'))]\n"
     ]
    }
   ],
   "source": [
    "print(\"Weights Norm: Fase 0\")\n",
    "pprint([(indice ,torch.norm(row) ) for indice ,row in enumerate(fase_0[\"linear_relu_stack.4.weight\"])])\n",
    "\n",
    "print(\"Weights Norm: Fase 1\")\n",
    "pprint([(indice ,torch.norm(row) ) for indice ,row in enumerate(fase_1[\"linear_relu_stack.4.weight\"])])"
   ]
  },
  {
   "cell_type": "markdown",
   "metadata": {},
   "source": [
    "Cambian ligeramente los pesos de la etapa 0."
   ]
  },
  {
   "cell_type": "markdown",
   "metadata": {},
   "source": [
    "# Tuning Model"
   ]
  },
  {
   "cell_type": "code",
   "execution_count": 8,
   "metadata": {},
   "outputs": [],
   "source": [
    "tuning_model = torch.load(\"Tuning.pth\")"
   ]
  },
  {
   "cell_type": "code",
   "execution_count": 9,
   "metadata": {},
   "outputs": [
    {
     "name": "stdout",
     "output_type": "stream",
     "text": [
      "Weights Norm:\n",
      "[(0, tensor(0.9395, device='cuda:0')),\n",
      " (1, tensor(1.0610, device='cuda:0')),\n",
      " (2, tensor(0.9342, device='cuda:0')),\n",
      " (3, tensor(0.8655, device='cuda:0')),\n",
      " (4, tensor(0.9039, device='cuda:0')),\n",
      " (5, tensor(0.7995, device='cuda:0')),\n",
      " (6, tensor(0.9587, device='cuda:0')),\n",
      " (7, tensor(0.9546, device='cuda:0')),\n",
      " (8, tensor(1.0015, device='cuda:0')),\n",
      " (9, tensor(0.9412, device='cuda:0'))]\n",
      "Bias:\n",
      "[(0, tensor(0.1785, device='cuda:0')),\n",
      " (1, tensor(0.0582, device='cuda:0')),\n",
      " (2, tensor(0.1248, device='cuda:0')),\n",
      " (3, tensor(0.0215, device='cuda:0')),\n",
      " (4, tensor(0.1748, device='cuda:0')),\n",
      " (5, tensor(0.0922, device='cuda:0')),\n",
      " (6, tensor(0.1147, device='cuda:0')),\n",
      " (7, tensor(0.0751, device='cuda:0')),\n",
      " (8, tensor(0.0279, device='cuda:0')),\n",
      " (9, tensor(0.0651, device='cuda:0'))]\n"
     ]
    }
   ],
   "source": [
    "print(\"Weights Norm:\")\n",
    "pprint([(indice ,torch.norm(row) ) for indice ,row in enumerate(tuning_model[\"linear_relu_stack.4.weight\"])])\n",
    "print(\"Bias:\")\n",
    "pprint([(indice ,torch.norm(row) ) for indice ,row in enumerate(tuning_model[\"linear_relu_stack.4.bias\"])])"
   ]
  },
  {
   "cell_type": "code",
   "execution_count": 10,
   "metadata": {},
   "outputs": [
    {
     "name": "stdout",
     "output_type": "stream",
     "text": [
      "Weights Norm: Tuning model\n",
      "[(0, tensor(0.9395, device='cuda:0')),\n",
      " (1, tensor(1.0610, device='cuda:0')),\n",
      " (2, tensor(0.9342, device='cuda:0')),\n",
      " (3, tensor(0.8655, device='cuda:0')),\n",
      " (4, tensor(0.9039, device='cuda:0')),\n",
      " (5, tensor(0.7995, device='cuda:0')),\n",
      " (6, tensor(0.9587, device='cuda:0')),\n",
      " (7, tensor(0.9546, device='cuda:0')),\n",
      " (8, tensor(1.0015, device='cuda:0')),\n",
      " (9, tensor(0.9412, device='cuda:0'))]\n",
      "Weights Norm: fase 1\n",
      "[(0, tensor(0.7632, device='cuda:0')),\n",
      " (1, tensor(0.8927, device='cuda:0')),\n",
      " (2, tensor(0.6978, device='cuda:0')),\n",
      " (3, tensor(0.7709, device='cuda:0')),\n",
      " (4, tensor(0.7388, device='cuda:0')),\n",
      " (5, tensor(0.7542, device='cuda:0')),\n",
      " (6, tensor(0.8815, device='cuda:0')),\n",
      " (7, tensor(0.8501, device='cuda:0')),\n",
      " (8, tensor(0.8227, device='cuda:0')),\n",
      " (9, tensor(0.7922, device='cuda:0'))]\n"
     ]
    }
   ],
   "source": [
    "print(\"Weights Norm: Tuning model\")\n",
    "pprint([(indice ,torch.norm(row) ) for indice ,row in enumerate(tuning_model[\"linear_relu_stack.4.weight\"])])\n",
    "print(\"Weights Norm: fase 1\")\n",
    "pprint([(indice ,torch.norm(row) ) for indice ,row in enumerate(fase_1[\"linear_relu_stack.4.weight\"])])"
   ]
  },
  {
   "cell_type": "markdown",
   "metadata": {},
   "source": [
    "# Mini Tuning model"
   ]
  },
  {
   "cell_type": "code",
   "execution_count": null,
   "metadata": {},
   "outputs": [],
   "source": [
    "mini_tuning_model = torch.load(\"mini_Tuning.pth\")"
   ]
  },
  {
   "cell_type": "code",
   "execution_count": null,
   "metadata": {},
   "outputs": [],
   "source": [
    "print(\"Weights Norm: Tuning model\")\n",
    "pprint([(indice ,torch.norm(row) ) for indice ,row in enumerate(tuning_model[\"linear_relu_stack.4.weight\"])])\n",
    "#print(\"Weights Norm: fase 1\")\n",
    "#pprint([(indice ,torch.norm(row) ) for indice ,row in enumerate(fase_1[\"linear_relu_stack.4.weight\"])])\n",
    "print(\"Weights Norm: Mini Tuing model\")\n",
    "pprint([(indice ,torch.norm(row) ) for indice ,row in enumerate(mini_tuning_model[\"linear_relu_stack.4.weight\"])])\n"
   ]
  }
 ],
 "metadata": {
  "kernelspec": {
   "display_name": "torch",
   "language": "python",
   "name": "python3"
  },
  "language_info": {
   "codemirror_mode": {
    "name": "ipython",
    "version": 3
   },
   "file_extension": ".py",
   "mimetype": "text/x-python",
   "name": "python",
   "nbconvert_exporter": "python",
   "pygments_lexer": "ipython3",
   "version": "3.11.5"
  },
  "orig_nbformat": 4
 },
 "nbformat": 4,
 "nbformat_minor": 2
}
