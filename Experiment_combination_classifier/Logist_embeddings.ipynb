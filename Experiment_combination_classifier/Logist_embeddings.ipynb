{
 "cells": [
  {
   "cell_type": "markdown",
   "metadata": {},
   "source": [
    "..."
   ]
  },
  {
   "cell_type": "code",
   "execution_count": 22,
   "metadata": {},
   "outputs": [],
   "source": [
    "from torchvision import datasets, transforms\n",
    "import torch\n",
    "from torch import nn\n",
    "from torch.utils.data import DataLoader\n",
    "\n",
    "from sklearn.manifold import TSNE\n",
    "import pandas as pd\n",
    "import seaborn as sns"
   ]
  },
  {
   "cell_type": "code",
   "execution_count": 23,
   "metadata": {},
   "outputs": [
    {
     "name": "stdout",
     "output_type": "stream",
     "text": [
      "True\n"
     ]
    }
   ],
   "source": [
    "batch_size = 1\n",
    "device = \"cuda\"\n",
    "print(torch.cuda.is_available())"
   ]
  },
  {
   "cell_type": "code",
   "execution_count": 24,
   "metadata": {},
   "outputs": [],
   "source": [
    "\n",
    "class NeuralNetwork(nn.Module):\n",
    "    def __init__(self):\n",
    "        super().__init__()\n",
    "        self.flatten = nn.Flatten()\n",
    "        self.linear_relu_stack = nn.Sequential(\n",
    "            nn.Linear(28*28, 512),\n",
    "            nn.ReLU(),\n",
    "            nn.Linear(512, 512),\n",
    "            nn.ReLU(),\n",
    "            nn.Linear(512, 10),\n",
    "        ) \n",
    "\n",
    "    def forward(self, x):\n",
    "        x = self.flatten(x)\n",
    "        embedding = self.linear_relu_stack[:-1](x)  \n",
    "        logits = self.linear_relu_stack(x)\n",
    "        return embedding, logits"
   ]
  },
  {
   "cell_type": "code",
   "execution_count": 19,
   "metadata": {},
   "outputs": [],
   "source": [
    "# [(num+15, train_data[i][1]) for num, i in enumerate(range(15, 40))]"
   ]
  },
  {
   "cell_type": "code",
   "execution_count": 25,
   "metadata": {},
   "outputs": [],
   "source": [
    "from pprint import pprint\n",
    "estado_fase_0 = torch.load('Fase_0.pth')\n",
    "estado_fase_1 = torch.load('Fase_1.pth')\n",
    "\n",
    "estado_fase_1[\"linear_relu_stack.4.weight\"][5:10, :] = estado_fase_0[\"linear_relu_stack.4.weight\"][5:10, :]\n",
    "estado_fase_1[\"linear_relu_stack.4.bias\"][5:10] = estado_fase_0[\"linear_relu_stack.4.bias\"][5:10]"
   ]
  },
  {
   "cell_type": "code",
   "execution_count": 26,
   "metadata": {},
   "outputs": [
    {
     "name": "stdout",
     "output_type": "stream",
     "text": [
      "Weights Norm:\n",
      "[(0, tensor(1.0947, device='cuda:0')),\n",
      " (1, tensor(1.2046, device='cuda:0')),\n",
      " (2, tensor(1.0862, device='cuda:0')),\n",
      " (3, tensor(1.0223, device='cuda:0')),\n",
      " (4, tensor(1.0812, device='cuda:0')),\n",
      " (5, tensor(0.6414, device='cuda:0')),\n",
      " (6, tensor(0.6275, device='cuda:0')),\n",
      " (7, tensor(0.6408, device='cuda:0')),\n",
      " (8, tensor(0.6609, device='cuda:0')),\n",
      " (9, tensor(0.6577, device='cuda:0'))]\n",
      "Bias:\n",
      "[(0, tensor(-0.0617, device='cuda:0')),\n",
      " (1, tensor(0.2236, device='cuda:0')),\n",
      " (2, tensor(-0.0377, device='cuda:0')),\n",
      " (3, tensor(-0.0188, device='cuda:0')),\n",
      " (4, tensor(0.0829, device='cuda:0')),\n",
      " (5, tensor(-0.1506, device='cuda:0')),\n",
      " (6, tensor(-0.1318, device='cuda:0')),\n",
      " (7, tensor(-0.1273, device='cuda:0')),\n",
      " (8, tensor(-0.1563, device='cuda:0')),\n",
      " (9, tensor(-0.1289, device='cuda:0'))]\n"
     ]
    }
   ],
   "source": [
    "print(\"Weights Norm:\")\n",
    "wn = [(indice ,torch.norm(row) ) for indice ,row in enumerate(estado_fase_1[\"linear_relu_stack.4.weight\"])]\n",
    "pprint(wn)\n",
    "print(\"Bias:\")\n",
    "bias = [(indice ,row ) for indice ,row in enumerate(estado_fase_1[\"linear_relu_stack.4.bias\"])]\n",
    "pprint(bias)"
   ]
  },
  {
   "cell_type": "code",
   "execution_count": 27,
   "metadata": {},
   "outputs": [
    {
     "data": {
      "text/plain": [
       "<All keys matched successfully>"
      ]
     },
     "execution_count": 27,
     "metadata": {},
     "output_type": "execute_result"
    }
   ],
   "source": [
    "model = NeuralNetwork().to(device)\n",
    "model.load_state_dict(estado_fase_1)"
   ]
  },
  {
   "cell_type": "code",
   "execution_count": 28,
   "metadata": {},
   "outputs": [],
   "source": [
    "\n",
    "from torch.utils.data import DataLoader\n",
    "import torchvision\n",
    "from torchvision import transforms\n",
    "\n",
    "eval_data = torchvision.datasets.MNIST(\n",
    "    root=\"../data\",\n",
    "    train=False,\n",
    "    download=True,\n",
    "    transform=transforms.ToTensor()\n",
    ")\n",
    "# Conjunto de evaluación\n",
    "eval_indices_to_7 = [i for i in range(len(eval_data)) if eval_data.targets[i] == 7]\n",
    "\n",
    "eval_to_7 = torch.utils.data.Subset(eval_data, eval_indices_to_7)\n",
    "eval_to_7_dataloader = DataLoader(eval_to_7, batch_size, shuffle=True)"
   ]
  },
  {
   "cell_type": "code",
   "execution_count": 33,
   "metadata": {},
   "outputs": [],
   "source": [
    "def extractor(dataloader, model):\n",
    "    model.eval()\n",
    "    embeddings = list()\n",
    "    with torch.no_grad():\n",
    "        for X, y in dataloader:\n",
    "            X, y = X.to(device), y.to(device)\n",
    "            features, logist_ = model(X)\n",
    "            embeddings.append( (features.cpu(), logist_.cpu(),y.cpu()) )\n",
    "            \n",
    "    return embeddings"
   ]
  },
  {
   "cell_type": "code",
   "execution_count": 34,
   "metadata": {},
   "outputs": [],
   "source": [
    "embeddings =  extractor(eval_to_7_dataloader, model)"
   ]
  },
  {
   "cell_type": "code",
   "execution_count": 39,
   "metadata": {},
   "outputs": [
    {
     "data": {
      "text/plain": [
       "tensor([[-2.8558, -3.0570, -4.6165, -1.7875, -0.8489, -1.1312, -1.7619,  0.3960,\n",
       "         -0.9822, -1.2929]])"
      ]
     },
     "execution_count": 39,
     "metadata": {},
     "output_type": "execute_result"
    }
   ],
   "source": [
    "embeddings[0][1]"
   ]
  }
 ],
 "metadata": {
  "kernelspec": {
   "display_name": "torch",
   "language": "python",
   "name": "python3"
  },
  "language_info": {
   "codemirror_mode": {
    "name": "ipython",
    "version": 3
   },
   "file_extension": ".py",
   "mimetype": "text/x-python",
   "name": "python",
   "nbconvert_exporter": "python",
   "pygments_lexer": "ipython3",
   "version": "3.9.18"
  },
  "orig_nbformat": 4
 },
 "nbformat": 4,
 "nbformat_minor": 2
}
