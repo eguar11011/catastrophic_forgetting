{
 "cells": [
  {
   "cell_type": "markdown",
   "metadata": {},
   "source": [
    "..."
   ]
  },
  {
   "cell_type": "code",
   "execution_count": 1,
   "metadata": {},
   "outputs": [],
   "source": [
    "from torchvision import datasets, transforms\n",
    "import torch\n",
    "from torch import nn\n",
    "from torch.utils.data import DataLoader\n",
    "\n",
    "from sklearn.manifold import TSNE\n",
    "import pandas as pd\n",
    "import seaborn as sns"
   ]
  },
  {
   "cell_type": "code",
   "execution_count": 3,
   "metadata": {},
   "outputs": [
    {
     "name": "stdout",
     "output_type": "stream",
     "text": [
      "True\n"
     ]
    }
   ],
   "source": [
    "batch_size = 1\n",
    "device = \"cuda\"\n",
    "print(torch.cuda.is_available())"
   ]
  },
  {
   "cell_type": "markdown",
   "metadata": {},
   "source": [
    "#### Instanciamos la red para generar los embeddings"
   ]
  },
  {
   "cell_type": "code",
   "execution_count": 4,
   "metadata": {},
   "outputs": [],
   "source": [
    "\n",
    "class NeuralNetwork(nn.Module):\n",
    "    def __init__(self):\n",
    "        super().__init__()\n",
    "        self.flatten = nn.Flatten()\n",
    "        self.linear_relu_stack = nn.Sequential(\n",
    "            nn.Linear(28*28, 512),\n",
    "            nn.ReLU(),\n",
    "            nn.Linear(512, 512),\n",
    "            nn.ReLU(),\n",
    "            nn.Linear(512, 10),\n",
    "        ) \n",
    "\n",
    "    def forward(self, x):\n",
    "        x = self.flatten(x)\n",
    "        embedding = self.linear_relu_stack[:-1](x)  \n",
    "        logits = self.linear_relu_stack(x)\n",
    "        return embedding, logits"
   ]
  },
  {
   "cell_type": "code",
   "execution_count": 19,
   "metadata": {},
   "outputs": [],
   "source": [
    "# [(num+15, train_data[i][1]) for num, i in enumerate(range(15, 40))]"
   ]
  },
  {
   "cell_type": "markdown",
   "metadata": {},
   "source": [
    "#### Generamos el clasificador con los pesos malos"
   ]
  },
  {
   "cell_type": "code",
   "execution_count": 5,
   "metadata": {},
   "outputs": [],
   "source": [
    "from pprint import pprint\n",
    "estado_fase_0 = torch.load('Fase_0.pth')\n",
    "estado_fase_1 = torch.load('Fase_1.pth')\n",
    "\n",
    "estado_fase_1[\"linear_relu_stack.4.weight\"][5:10, :] = estado_fase_0[\"linear_relu_stack.4.weight\"][5:10, :]\n",
    "estado_fase_1[\"linear_relu_stack.4.bias\"][5:10] = estado_fase_0[\"linear_relu_stack.4.bias\"][5:10]"
   ]
  },
  {
   "cell_type": "code",
   "execution_count": 6,
   "metadata": {},
   "outputs": [
    {
     "name": "stdout",
     "output_type": "stream",
     "text": [
      "Weights Norm:\n",
      "[(0, tensor(1.0966, device='cuda:0')),\n",
      " (1, tensor(1.1971, device='cuda:0')),\n",
      " (2, tensor(1.0860, device='cuda:0')),\n",
      " (3, tensor(1.0435, device='cuda:0')),\n",
      " (4, tensor(1.0837, device='cuda:0')),\n",
      " (5, tensor(0.6537, device='cuda:0')),\n",
      " (6, tensor(0.6658, device='cuda:0')),\n",
      " (7, tensor(0.6536, device='cuda:0')),\n",
      " (8, tensor(0.6560, device='cuda:0')),\n",
      " (9, tensor(0.6453, device='cuda:0'))]\n",
      "Bias:\n",
      "[(0, tensor(-0.0329, device='cuda:0')),\n",
      " (1, tensor(0.2524, device='cuda:0')),\n",
      " (2, tensor(0.0166, device='cuda:0')),\n",
      " (3, tensor(0.0098, device='cuda:0')),\n",
      " (4, tensor(0.0994, device='cuda:0')),\n",
      " (5, tensor(-0.0808, device='cuda:0')),\n",
      " (6, tensor(-0.1150, device='cuda:0')),\n",
      " (7, tensor(-0.0970, device='cuda:0')),\n",
      " (8, tensor(-0.1229, device='cuda:0')),\n",
      " (9, tensor(-0.0929, device='cuda:0'))]\n"
     ]
    }
   ],
   "source": [
    "print(\"Weights Norm:\")\n",
    "wn = [(indice ,torch.norm(row) ) for indice ,row in enumerate(estado_fase_1[\"linear_relu_stack.4.weight\"])]\n",
    "pprint(wn)\n",
    "print(\"Bias:\")\n",
    "bias = [(indice ,row ) for indice ,row in enumerate(estado_fase_1[\"linear_relu_stack.4.bias\"])]\n",
    "pprint(bias)"
   ]
  },
  {
   "cell_type": "code",
   "execution_count": 10,
   "metadata": {},
   "outputs": [
    {
     "data": {
      "text/plain": [
       "<All keys matched successfully>"
      ]
     },
     "execution_count": 10,
     "metadata": {},
     "output_type": "execute_result"
    }
   ],
   "source": [
    "model = NeuralNetwork().to(device)\n",
    "model.load_state_dict(estado_fase_1)"
   ]
  },
  {
   "cell_type": "markdown",
   "metadata": {},
   "source": [
    "#### Elegimos una de las clases"
   ]
  },
  {
   "cell_type": "code",
   "execution_count": 7,
   "metadata": {},
   "outputs": [],
   "source": [
    "\n",
    "from torch.utils.data import DataLoader\n",
    "import torchvision\n",
    "from torchvision import transforms\n",
    "\n",
    "eval_data = torchvision.datasets.MNIST(\n",
    "    root=\"../data\",\n",
    "    train=False,\n",
    "    download=True,\n",
    "    transform=transforms.ToTensor()\n",
    ")\n",
    "# Conjunto de evaluación\n",
    "eval_indices_to_7 = [i for i in range(len(eval_data)) if eval_data.targets[i] == 7]\n",
    "\n",
    "eval_to_7 = torch.utils.data.Subset(eval_data, eval_indices_to_7)\n",
    "eval_to_7_dataloader = DataLoader(eval_to_7, batch_size, shuffle=True)"
   ]
  },
  {
   "cell_type": "code",
   "execution_count": 8,
   "metadata": {},
   "outputs": [],
   "source": [
    "def extractor(dataloader, model):\n",
    "    model.eval()\n",
    "    embeddings = list()\n",
    "    with torch.no_grad():\n",
    "        for X, y in dataloader:\n",
    "            X, y = X.to(device), y.to(device)\n",
    "            features, logist_ = model(X)\n",
    "            embeddings.append( (features.cpu(), logist_.cpu(),y.cpu()) )\n",
    "            \n",
    "    return embeddings"
   ]
  },
  {
   "cell_type": "markdown",
   "metadata": {},
   "source": [
    "#### Aquí tenemos todos los embeddings de todas las imagenes del número 7"
   ]
  },
  {
   "cell_type": "code",
   "execution_count": 11,
   "metadata": {},
   "outputs": [],
   "source": [
    "embeddings =  extractor(eval_to_7_dataloader, model)"
   ]
  },
  {
   "cell_type": "code",
   "execution_count": 24,
   "metadata": {},
   "outputs": [
    {
     "data": {
      "text/plain": [
       "torch.Size([1, 512])"
      ]
     },
     "execution_count": 24,
     "metadata": {},
     "output_type": "execute_result"
    }
   ],
   "source": [
    "# Embedding\n",
    "embeddings[0][0].shape"
   ]
  },
  {
   "cell_type": "code",
   "execution_count": 21,
   "metadata": {},
   "outputs": [
    {
     "name": "stdout",
     "output_type": "stream",
     "text": [
      "tensor(14.8855) tensor([7]) tensor(7)\n"
     ]
    }
   ],
   "source": [
    "select = 19\n",
    "print(torch.norm(embeddings[select][0]) ,embeddings[select][2],torch.argmax(embeddings[select][1]))"
   ]
  },
  {
   "cell_type": "markdown",
   "metadata": {},
   "source": [
    "#### Volvamos a la matriz de pesos"
   ]
  },
  {
   "cell_type": "code",
   "execution_count": 23,
   "metadata": {},
   "outputs": [
    {
     "data": {
      "text/plain": [
       "torch.Size([10, 512])"
      ]
     },
     "execution_count": 23,
     "metadata": {},
     "output_type": "execute_result"
    }
   ],
   "source": [
    "estado_fase_1[\"linear_relu_stack.4.weight\"].shape"
   ]
  },
  {
   "cell_type": "markdown",
   "metadata": {},
   "source": [
    "- Queremos encontrar los 100 indices con los productos mas altos"
   ]
  },
  {
   "cell_type": "code",
   "execution_count": 49,
   "metadata": {},
   "outputs": [],
   "source": [
    "vector = embeddings[0][0] # torch.Size([1, 512])\n",
    "weights = estado_fase_1[\"linear_relu_stack.4.weight\"] # torch.Size([10, 512])"
   ]
  },
  {
   "cell_type": "code",
   "execution_count": 69,
   "metadata": {},
   "outputs": [],
   "source": [
    "def calculate_dot_products(vector, weights):\n",
    "    dot_products_manual = []\n",
    "    max_indices = []\n",
    "\n",
    "    # Realizar el producto punto manualmente y guardar el índice del mayor producto\n",
    "    for i, row in enumerate(weights):\n",
    "        max_product = float(\"-inf\")\n",
    "        max_index = None\n",
    "        dot_product = 0\n",
    "        for j in range(len(vector[0])):\n",
    "            dot_product += row[j] * vector[0][j]\n",
    "            if row[j] * vector[0][j] > max_product:\n",
    "                max_product = row[j] * vector[0][j]\n",
    "                max_index = j\n",
    "        dot_products_manual.append(dot_product)\n",
    "        max_indices.append((i, max_index))\n",
    "\n",
    "    # Mostrar los números y sus índices\n",
    "    for i, tensor in enumerate(dot_products_manual):\n",
    "        print(\"Índice:\", i, \"Producto punto:\", tensor.item())\n",
    "    print(\"Indice con el mayor producto\")\n",
    "    print( max_indices)"
   ]
  },
  {
   "cell_type": "code",
   "execution_count": 70,
   "metadata": {},
   "outputs": [
    {
     "name": "stdout",
     "output_type": "stream",
     "text": [
      "Índice: 0 Producto punto: -4.719912052154541\n",
      "Índice: 1 Producto punto: -2.4129674434661865\n",
      "Índice: 2 Producto punto: -4.8340535163879395\n",
      "Índice: 3 Producto punto: -2.32509708404541\n",
      "Índice: 4 Producto punto: -0.7826246619224548\n",
      "Índice: 5 Producto punto: -1.5168896913528442\n",
      "Índice: 6 Producto punto: -1.4903335571289062\n",
      "Índice: 7 Producto punto: 0.47635093331336975\n",
      "Índice: 8 Producto punto: -0.8869917988777161\n",
      "Índice: 9 Producto punto: -0.9040484428405762\n",
      "Indice con el mayor producto\n",
      "[(0, 325), (1, 288), (2, 388), (3, 439), (4, 409), (5, 277), (6, 114), (7, 188), (8, 151), (9, 47)]\n"
     ]
    }
   ],
   "source": [
    "vector = embeddings[0][0] # torch.Size([1, 512])\n",
    "weights = estado_fase_1[\"linear_relu_stack.4.weight\"] # torch.Size([10, 512])\n",
    "calculate_dot_products(vector, weights)"
   ]
  },
  {
   "cell_type": "code",
   "execution_count": 71,
   "metadata": {},
   "outputs": [
    {
     "name": "stdout",
     "output_type": "stream",
     "text": [
      "Índice: 0 Producto punto: -4.951585292816162\n",
      "Índice: 1 Producto punto: -3.768437147140503\n",
      "Índice: 2 Producto punto: -6.010313034057617\n",
      "Índice: 3 Producto punto: -2.6406893730163574\n",
      "Índice: 4 Producto punto: -1.450272798538208\n",
      "Índice: 5 Producto punto: -1.795319676399231\n",
      "Índice: 6 Producto punto: -1.8316062688827515\n",
      "Índice: 7 Producto punto: 0.6995322108268738\n",
      "Índice: 8 Producto punto: -1.0334159135818481\n",
      "Índice: 9 Producto punto: -1.172971248626709\n",
      "Indice con el mayor producto\n",
      "[(0, 325), (1, 288), (2, 132), (3, 439), (4, 409), (5, 277), (6, 114), (7, 188), (8, 151), (9, 47)]\n"
     ]
    }
   ],
   "source": [
    "vector = embeddings[1][0] # torch.Size([1, 512])\n",
    "weights = estado_fase_1[\"linear_relu_stack.4.weight\"] # torch.Size([10, 512])\n",
    "calculate_dot_products(vector, weights)"
   ]
  },
  {
   "cell_type": "code",
   "execution_count": 72,
   "metadata": {},
   "outputs": [
    {
     "name": "stdout",
     "output_type": "stream",
     "text": [
      "Índice: 0 Producto punto: -7.391018867492676\n",
      "Índice: 1 Producto punto: -5.288793563842773\n",
      "Índice: 2 Producto punto: -8.529760360717773\n",
      "Índice: 3 Producto punto: -3.5293660163879395\n",
      "Índice: 4 Producto punto: -2.2228734493255615\n",
      "Índice: 5 Producto punto: -2.6832709312438965\n",
      "Índice: 6 Producto punto: -2.6769754886627197\n",
      "Índice: 7 Producto punto: 0.9215599894523621\n",
      "Índice: 8 Producto punto: -1.2699629068374634\n",
      "Índice: 9 Producto punto: -1.7799588441848755\n",
      "Indice con el mayor producto\n",
      "[(0, 325), (1, 288), (2, 132), (3, 439), (4, 409), (5, 277), (6, 114), (7, 188), (8, 151), (9, 47)]\n"
     ]
    }
   ],
   "source": [
    "vector = embeddings[2][0] # torch.Size([1, 512])\n",
    "weights = estado_fase_1[\"linear_relu_stack.4.weight\"] # torch.Size([10, 512])\n",
    "calculate_dot_products(vector, weights)"
   ]
  },
  {
   "cell_type": "code",
   "execution_count": 73,
   "metadata": {},
   "outputs": [
    {
     "name": "stdout",
     "output_type": "stream",
     "text": [
      "Índice: 0 Producto punto: -3.9612576961517334\n",
      "Índice: 1 Producto punto: -6.551476955413818\n",
      "Índice: 2 Producto punto: -8.131542205810547\n",
      "Índice: 3 Producto punto: -4.041262149810791\n",
      "Índice: 4 Producto punto: -1.9478480815887451\n",
      "Índice: 5 Producto punto: -1.6651408672332764\n",
      "Índice: 6 Producto punto: -1.721736192703247\n",
      "Índice: 7 Producto punto: -0.3020082116127014\n",
      "Índice: 8 Producto punto: -1.4926122426986694\n",
      "Índice: 9 Producto punto: -1.212050437927246\n",
      "Indice con el mayor producto\n",
      "[(0, 325), (1, 288), (2, 312), (3, 53), (4, 409), (5, 277), (6, 114), (7, 188), (8, 409), (9, 104)]\n"
     ]
    }
   ],
   "source": [
    "vector = embeddings[3][0] # torch.Size([1, 512])\n",
    "weights = estado_fase_1[\"linear_relu_stack.4.weight\"] # torch.Size([10, 512])\n",
    "calculate_dot_products(vector, weights)"
   ]
  },
  {
   "cell_type": "code",
   "execution_count": 74,
   "metadata": {},
   "outputs": [
    {
     "name": "stdout",
     "output_type": "stream",
     "text": [
      "Índice: 0 Producto punto: -4.027512550354004\n",
      "Índice: 1 Producto punto: -4.163403511047363\n",
      "Índice: 2 Producto punto: -5.442128658294678\n",
      "Índice: 3 Producto punto: -2.066265106201172\n",
      "Índice: 4 Producto punto: -0.668584406375885\n",
      "Índice: 5 Producto punto: -1.5021089315414429\n",
      "Índice: 6 Producto punto: -1.5751320123672485\n",
      "Índice: 7 Producto punto: 0.4001258909702301\n",
      "Índice: 8 Producto punto: -0.9389763474464417\n",
      "Índice: 9 Producto punto: -0.98646479845047\n",
      "Indice con el mayor producto\n",
      "[(0, 325), (1, 288), (2, 132), (3, 439), (4, 409), (5, 277), (6, 114), (7, 188), (8, 104), (9, 26)]\n"
     ]
    }
   ],
   "source": [
    "vector = embeddings[4][0] # torch.Size([1, 512])\n",
    "weights = estado_fase_1[\"linear_relu_stack.4.weight\"] # torch.Size([10, 512])\n",
    "calculate_dot_products(vector, weights)"
   ]
  },
  {
   "cell_type": "code",
   "execution_count": 75,
   "metadata": {},
   "outputs": [
    {
     "name": "stdout",
     "output_type": "stream",
     "text": [
      "Índice: 0 Producto punto: -5.842214107513428\n",
      "Índice: 1 Producto punto: -6.18215274810791\n",
      "Índice: 2 Producto punto: -7.770198345184326\n",
      "Índice: 3 Producto punto: -3.825814962387085\n",
      "Índice: 4 Producto punto: -2.8593456745147705\n",
      "Índice: 5 Producto punto: -2.6373395919799805\n",
      "Índice: 6 Producto punto: -2.5506114959716797\n",
      "Índice: 7 Producto punto: 1.033263921737671\n",
      "Índice: 8 Producto punto: -1.3971160650253296\n",
      "Índice: 9 Producto punto: -1.9435690641403198\n",
      "Indice con el mayor producto\n",
      "[(0, 325), (1, 288), (2, 132), (3, 439), (4, 409), (5, 277), (6, 114), (7, 188), (8, 151), (9, 104)]\n"
     ]
    }
   ],
   "source": [
    "vector = embeddings[5][0] # torch.Size([1, 512])\n",
    "weights = estado_fase_1[\"linear_relu_stack.4.weight\"] # torch.Size([10, 512])\n",
    "calculate_dot_products(vector, weights)"
   ]
  },
  {
   "cell_type": "code",
   "execution_count": 80,
   "metadata": {},
   "outputs": [
    {
     "name": "stdout",
     "output_type": "stream",
     "text": [
      "Índice: 0 Producto punto: -8.379469871520996\n",
      "Índice: 1 Producto punto: -2.701742649078369\n",
      "Índice: 2 Producto punto: -6.433638572692871\n",
      "Índice: 3 Producto punto: -2.3344814777374268\n",
      "Índice: 4 Producto punto: -3.376556634902954\n",
      "Índice: 5 Producto punto: -2.4215102195739746\n",
      "Índice: 6 Producto punto: -2.1800248622894287\n",
      "Índice: 7 Producto punto: -0.267403781414032\n",
      "Índice: 8 Producto punto: -1.0816799402236938\n",
      "Índice: 9 Producto punto: -1.427729606628418\n",
      "Indice con el mayor producto\n",
      "[(0, 325), (1, 327), (2, 388), (3, 53), (4, 409), (5, 277), (6, 114), (7, 188), (8, 151), (9, 47)]\n",
      "Índice: 0 Producto punto: -3.3843958377838135\n",
      "Índice: 1 Producto punto: -2.3225581645965576\n",
      "Índice: 2 Producto punto: -3.8065364360809326\n",
      "Índice: 3 Producto punto: -1.633362054824829\n",
      "Índice: 4 Producto punto: -0.34295904636383057\n",
      "Índice: 5 Producto punto: -1.146543264389038\n",
      "Índice: 6 Producto punto: -1.1166719198226929\n",
      "Índice: 7 Producto punto: 0.3229431211948395\n",
      "Índice: 8 Producto punto: -0.7552940845489502\n",
      "Índice: 9 Producto punto: -0.6882144212722778\n",
      "Indice con el mayor producto\n",
      "[(0, 325), (1, 288), (2, 132), (3, 439), (4, 409), (5, 277), (6, 114), (7, 188), (8, 409), (9, 47)]\n"
     ]
    }
   ],
   "source": [
    "for i in range(15, 17):\n",
    "    vector = embeddings[i][0] # torch.Size([1, 512])\n",
    "    weights = estado_fase_1[\"linear_relu_stack.4.weight\"] # torch.Size([10, 512])\n",
    "    calculate_dot_products(vector, weights)"
   ]
  },
  {
   "cell_type": "markdown",
   "metadata": {},
   "source": [
    "### Veamos que pasa con otra clase"
   ]
  },
  {
   "cell_type": "code",
   "execution_count": 81,
   "metadata": {},
   "outputs": [],
   "source": [
    "eval_data = torchvision.datasets.MNIST(\n",
    "    root=\"../data\",\n",
    "    train=False,\n",
    "    download=True,\n",
    "    transform=transforms.ToTensor()\n",
    ")\n",
    "# Conjunto de evaluación\n",
    "eval_indices_to_3 = [i for i in range(len(eval_data)) if eval_data.targets[i] == 3]\n",
    "\n",
    "eval_to_3 = torch.utils.data.Subset(eval_data, eval_indices_to_3)\n",
    "eval_to_3_dataloader = DataLoader(eval_to_3, batch_size, shuffle=True)"
   ]
  },
  {
   "cell_type": "code",
   "execution_count": 82,
   "metadata": {},
   "outputs": [],
   "source": [
    "embeddings_3 =  extractor(eval_to_3_dataloader, model)"
   ]
  },
  {
   "cell_type": "code",
   "execution_count": 93,
   "metadata": {},
   "outputs": [
    {
     "name": "stdout",
     "output_type": "stream",
     "text": [
      "0 tensor(20.2078) tensor([3]) tensor(3)\n",
      "1 tensor(17.7633) tensor([3]) tensor(8)\n",
      "2 tensor(20.9028) tensor([3]) tensor(8)\n",
      "3 tensor(9.2237) tensor([3]) tensor(6)\n",
      "4 tensor(22.1079) tensor([3]) tensor(3)\n",
      "5 tensor(17.7273) tensor([3]) tensor(3)\n",
      "6 tensor(13.5157) tensor([3]) tensor(3)\n",
      "7 tensor(12.1855) tensor([3]) tensor(3)\n",
      "8 tensor(19.1539) tensor([3]) tensor(3)\n",
      "9 tensor(11.7066) tensor([3]) tensor(1)\n",
      "10 tensor(14.1310) tensor([3]) tensor(3)\n",
      "11 tensor(9.2363) tensor([3]) tensor(3)\n",
      "12 tensor(14.8684) tensor([3]) tensor(3)\n",
      "13 tensor(14.2826) tensor([3]) tensor(3)\n",
      "14 tensor(10.6723) tensor([3]) tensor(3)\n",
      "15 tensor(16.6160) tensor([3]) tensor(8)\n",
      "16 tensor(17.6403) tensor([3]) tensor(3)\n",
      "17 tensor(17.5229) tensor([3]) tensor(3)\n",
      "18 tensor(9.9987) tensor([3]) tensor(6)\n",
      "19 tensor(18.7090) tensor([3]) tensor(3)\n"
     ]
    }
   ],
   "source": [
    "for select in range(20):\n",
    "\n",
    "    print(select,torch.norm(embeddings_3[select][0]) ,embeddings_3[select][2],torch.argmax(embeddings_3[select][1]))"
   ]
  },
  {
   "cell_type": "code",
   "execution_count": 94,
   "metadata": {},
   "outputs": [
    {
     "name": "stdout",
     "output_type": "stream",
     "text": [
      "9\n",
      "Índice: 0 Producto punto: -6.3605804443359375\n",
      "Índice: 1 Producto punto: -0.5502133369445801\n",
      "Índice: 2 Producto punto: -2.3556411266326904\n",
      "Índice: 3 Producto punto: -0.6394689679145813\n",
      "Índice: 4 Producto punto: -4.398438453674316\n",
      "Índice: 5 Producto punto: -1.6422111988067627\n",
      "Índice: 6 Producto punto: -1.3337544202804565\n",
      "Índice: 7 Producto punto: -1.5603241920471191\n",
      "Índice: 8 Producto punto: -0.7158467769622803\n",
      "Índice: 9 Producto punto: -1.1924173831939697\n",
      "Indice con el mayor producto\n",
      "[(0, 325), (1, 444), (2, 388), (3, 496), (4, 409), (5, 277), (6, 114), (7, 47), (8, 277), (9, 47)]\n",
      "10\n",
      "Índice: 0 Producto punto: -3.9866647720336914\n",
      "Índice: 1 Producto punto: -4.364236354827881\n",
      "Índice: 2 Producto punto: -4.690904140472412\n",
      "Índice: 3 Producto punto: 0.9349015951156616\n",
      "Índice: 4 Producto punto: -6.287780284881592\n",
      "Índice: 5 Producto punto: -1.3395602703094482\n",
      "Índice: 6 Producto punto: -1.3677284717559814\n",
      "Índice: 7 Producto punto: -2.181875705718994\n",
      "Índice: 8 Producto punto: -1.1456067562103271\n",
      "Índice: 9 Producto punto: -1.5221154689788818\n",
      "Indice con el mayor producto\n",
      "[(0, 325), (1, 444), (2, 199), (3, 496), (4, 409), (5, 277), (6, 114), (7, 114), (8, 277), (9, 277)]\n"
     ]
    }
   ],
   "source": [
    "for i in range(9, 11):\n",
    "    print(i)\n",
    "    vector = embeddings_3[i][0] # torch.Size([1, 512])\n",
    "    weights = estado_fase_1[\"linear_relu_stack.4.weight\"] # torch.Size([10, 512])\n",
    "    calculate_dot_products(vector, weights)"
   ]
  },
  {
   "cell_type": "code",
   "execution_count": 95,
   "metadata": {},
   "outputs": [
    {
     "name": "stdout",
     "output_type": "stream",
     "text": [
      "18\n",
      "Índice: 0 Producto punto: -3.995173692703247\n",
      "Índice: 1 Producto punto: -2.126204252243042\n",
      "Índice: 2 Producto punto: -2.4502220153808594\n",
      "Índice: 3 Producto punto: -1.1980994939804077\n",
      "Índice: 4 Producto punto: -3.9743621349334717\n",
      "Índice: 5 Producto punto: -1.1503819227218628\n",
      "Índice: 6 Producto punto: -0.6921254992485046\n",
      "Índice: 7 Producto punto: -1.6696603298187256\n",
      "Índice: 8 Producto punto: -0.8027104735374451\n",
      "Índice: 9 Producto punto: -0.980441689491272\n",
      "Indice con el mayor producto\n",
      "[(0, 325), (1, 444), (2, 388), (3, 496), (4, 409), (5, 277), (6, 114), (7, 114), (8, 277), (9, 277)]\n",
      "19\n",
      "Índice: 0 Producto punto: -4.612472057342529\n",
      "Índice: 1 Producto punto: -5.0663371086120605\n",
      "Índice: 2 Producto punto: -5.688878536224365\n",
      "Índice: 3 Producto punto: 0.9830247759819031\n",
      "Índice: 4 Producto punto: -9.658469200134277\n",
      "Índice: 5 Producto punto: -1.8969740867614746\n",
      "Índice: 6 Producto punto: -1.81869375705719\n",
      "Índice: 7 Producto punto: -2.798523426055908\n",
      "Índice: 8 Producto punto: -1.546491026878357\n",
      "Índice: 9 Producto punto: -2.3481862545013428\n",
      "Indice con el mayor producto\n",
      "[(0, 325), (1, 444), (2, 199), (3, 496), (4, 409), (5, 277), (6, 114), (7, 114), (8, 277), (9, 47)]\n"
     ]
    }
   ],
   "source": [
    "for i in range(18, 20):\n",
    "    print(i)\n",
    "    vector = embeddings_3[i][0] # torch.Size([1, 512])\n",
    "    weights = estado_fase_1[\"linear_relu_stack.4.weight\"] # torch.Size([10, 512])\n",
    "    calculate_dot_products(vector, weights)"
   ]
  },
  {
   "cell_type": "code",
   "execution_count": 97,
   "metadata": {},
   "outputs": [
    {
     "name": "stdout",
     "output_type": "stream",
     "text": [
      "14\n",
      "Índice: 0 Producto punto: -1.8345768451690674\n",
      "Índice: 1 Producto punto: -3.4103941917419434\n",
      "Índice: 2 Producto punto: -3.1460728645324707\n",
      "Índice: 3 Producto punto: 0.7246735095977783\n",
      "Índice: 4 Producto punto: -5.723138332366943\n",
      "Índice: 5 Producto punto: -1.0889941453933716\n",
      "Índice: 6 Producto punto: -1.0627979040145874\n",
      "Índice: 7 Producto punto: -1.5920348167419434\n",
      "Índice: 8 Producto punto: -1.0199458599090576\n",
      "Índice: 9 Producto punto: -1.4818040132522583\n",
      "Indice con el mayor producto\n",
      "[(0, 325), (1, 444), (2, 199), (3, 184), (4, 409), (5, 277), (6, 114), (7, 114), (8, 277), (9, 277)]\n",
      "15\n",
      "Índice: 0 Producto punto: -8.016717910766602\n",
      "Índice: 1 Producto punto: -2.724132537841797\n",
      "Índice: 2 Producto punto: -4.613162517547607\n",
      "Índice: 3 Producto punto: -1.9271371364593506\n",
      "Índice: 4 Producto punto: -5.372285842895508\n",
      "Índice: 5 Producto punto: -2.125352144241333\n",
      "Índice: 6 Producto punto: -1.6529182195663452\n",
      "Índice: 7 Producto punto: -1.9010593891143799\n",
      "Índice: 8 Producto punto: -0.830787718296051\n",
      "Índice: 9 Producto punto: -1.2614541053771973\n",
      "Indice con el mayor producto\n",
      "[(0, 325), (1, 444), (2, 388), (3, 496), (4, 409), (5, 277), (6, 114), (7, 114), (8, 277), (9, 47)]\n"
     ]
    }
   ],
   "source": [
    "for i in range(14, 16):\n",
    "    print(i)\n",
    "    vector = embeddings_3[i][0] # torch.Size([1, 512])\n",
    "    weights = estado_fase_1[\"linear_relu_stack.4.weight\"] # torch.Size([10, 512])\n",
    "    calculate_dot_products(vector, weights)"
   ]
  }
 ],
 "metadata": {
  "kernelspec": {
   "display_name": "torch",
   "language": "python",
   "name": "python3"
  },
  "language_info": {
   "codemirror_mode": {
    "name": "ipython",
    "version": 3
   },
   "file_extension": ".py",
   "mimetype": "text/x-python",
   "name": "python",
   "nbconvert_exporter": "python",
   "pygments_lexer": "ipython3",
   "version": "3.11.5"
  },
  "orig_nbformat": 4
 },
 "nbformat": 4,
 "nbformat_minor": 2
}
