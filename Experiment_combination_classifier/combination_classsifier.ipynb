{
 "cells": [
  {
   "cell_type": "code",
   "execution_count": 1,
   "metadata": {},
   "outputs": [],
   "source": [
    "import torchvision\n",
    "from torchvision import transforms\n",
    "import torch\n",
    "from torch import nn\n",
    "from torch.utils.data import DataLoader\n",
    "import os"
   ]
  },
  {
   "cell_type": "code",
   "execution_count": 2,
   "metadata": {},
   "outputs": [],
   "source": [
    "class NeuralNetwork(nn.Module):\n",
    "    def __init__(self):\n",
    "        super().__init__()\n",
    "        self.flatten = nn.Flatten()\n",
    "        self.linear_relu_stack = nn.Sequential(\n",
    "            nn.Linear(28*28, 512),\n",
    "            nn.ReLU(),\n",
    "            nn.Linear(512, 512),\n",
    "            nn.ReLU(),\n",
    "            nn.Linear(512, 10),\n",
    "        )\n",
    "\n",
    "    def forward(self, x):\n",
    "        x = self.flatten(x)\n",
    "        logits = self.linear_relu_stack(x)\n",
    "        return logits\n"
   ]
  },
  {
   "cell_type": "code",
   "execution_count": 3,
   "metadata": {},
   "outputs": [
    {
     "name": "stdout",
     "output_type": "stream",
     "text": [
      "True\n"
     ]
    }
   ],
   "source": [
    "print(torch.cuda.is_available())"
   ]
  },
  {
   "cell_type": "code",
   "execution_count": 4,
   "metadata": {},
   "outputs": [],
   "source": [
    "device = \"cuda:0\""
   ]
  },
  {
   "cell_type": "code",
   "execution_count": 5,
   "metadata": {},
   "outputs": [],
   "source": [
    "# Cargar los estados de los modelos\n",
    "estado_fase_0 = torch.load('Fase_0.pth')\n",
    "estado_fase_1 = torch.load('Fase_1.pth')\n"
   ]
  },
  {
   "cell_type": "code",
   "execution_count": 15,
   "metadata": {},
   "outputs": [
    {
     "name": "stdout",
     "output_type": "stream",
     "text": [
      "tensor([[ 0.0454, -0.0391, -0.0658,  ..., -0.0524, -0.0942,  0.0085],\n",
      "        [-0.0193,  0.0436,  0.0238,  ...,  0.0301, -0.0064, -0.0019],\n",
      "        [ 0.0270, -0.0110,  0.0054,  ..., -0.0842,  0.0650,  0.0347],\n",
      "        ...,\n",
      "        [-0.0154, -0.1233, -0.0039,  ...,  0.0591, -0.0296, -0.0098],\n",
      "        [ 0.0290,  0.0072,  0.0139,  ...,  0.0007, -0.0433, -0.0186],\n",
      "        [ 0.0401,  0.0267,  0.0197,  ...,  0.0993,  0.0004, -0.0284]],\n",
      "       device='cuda:0')\n",
      "tensor([-0.0329,  0.2524,  0.0166,  0.0098,  0.0994,  0.0797, -0.0611,  0.0681,\n",
      "        -0.2061, -0.0385], device='cuda:0')\n"
     ]
    }
   ],
   "source": [
    "print(estado_fase_1[\"linear_relu_stack.4.weight\"])\n",
    "print(estado_fase_1[\"linear_relu_stack.4.bias\"])"
   ]
  },
  {
   "cell_type": "markdown",
   "metadata": {},
   "source": [
    "\n",
    "## Model 1 with classiffier from Model 0 "
   ]
  },
  {
   "cell_type": "code",
   "execution_count": 6,
   "metadata": {},
   "outputs": [],
   "source": [
    "\n",
    "estado_fase_1[\"linear_relu_stack.4.weight\"] = estado_fase_0[\"linear_relu_stack.4.weight\"]\n",
    "estado_fase_1[\"linear_relu_stack.4.bias\"]= estado_fase_0[\"linear_relu_stack.4.bias\"]\n",
    "\n",
    "txt = \"logs/preditions_combination_classifier_f0_0_4_f0_5_9_F1.txt\""
   ]
  },
  {
   "cell_type": "code",
   "execution_count": 7,
   "metadata": {},
   "outputs": [
    {
     "data": {
      "text/plain": [
       "<All keys matched successfully>"
      ]
     },
     "execution_count": 7,
     "metadata": {},
     "output_type": "execute_result"
    }
   ],
   "source": [
    "\n",
    "model_classifier = NeuralNetwork().to(device)\n",
    "model_classifier.load_state_dict(estado_fase_1)"
   ]
  },
  {
   "cell_type": "markdown",
   "metadata": {},
   "source": [
    "## Change f_0(5-9) to f_1(5-9) MODEL 1"
   ]
  },
  {
   "cell_type": "code",
   "execution_count": 16,
   "metadata": {},
   "outputs": [],
   "source": [
    "\n",
    "estado_fase_1[\"linear_relu_stack.4.weight\"][5:10, :] = estado_fase_0[\"linear_relu_stack.4.weight\"][5:10, :]\n",
    "estado_fase_1[\"linear_relu_stack.4.bias\"][5:10] = estado_fase_0[\"linear_relu_stack.4.bias\"][5:10]\n",
    "\n",
    "txt = \"logs/preditions_combination_classifier_f1_0_4_f0_5_9_F1.txt\""
   ]
  },
  {
   "cell_type": "code",
   "execution_count": 17,
   "metadata": {},
   "outputs": [
    {
     "data": {
      "text/plain": [
       "<All keys matched successfully>"
      ]
     },
     "execution_count": 17,
     "metadata": {},
     "output_type": "execute_result"
    }
   ],
   "source": [
    "\n",
    "model_classifier = NeuralNetwork().to(device)\n",
    "model_classifier.load_state_dict(estado_fase_1)"
   ]
  },
  {
   "cell_type": "markdown",
   "metadata": {},
   "source": [
    "## Change f_0(0-4) to f_1(0-4) MODEL 1"
   ]
  },
  {
   "cell_type": "code",
   "execution_count": 21,
   "metadata": {},
   "outputs": [],
   "source": [
    "# Cargar los estados de los modelos\n",
    "estado_fase_0 = torch.load('Fase_0.pth')\n",
    "estado_fase_1 = torch.load('Fase_1.pth')"
   ]
  },
  {
   "cell_type": "code",
   "execution_count": 22,
   "metadata": {},
   "outputs": [],
   "source": [
    "\n",
    "# Transferir el clasificador de Fase_0 a Fase_1\n",
    "a, b = 0, 5\n",
    "estado_fase_1[\"linear_relu_stack.4.weight\"][a:b, :] = estado_fase_0[\"linear_relu_stack.4.weight\"][a:b, :]\n",
    "estado_fase_1[\"linear_relu_stack.4.bias\"][a:b] = estado_fase_0[\"linear_relu_stack.4.bias\"][a:b]\n",
    "\n",
    "txt = \"logs/preditions_combination_classifier_f0_0_4_f1_5_9_F1.txt\""
   ]
  },
  {
   "cell_type": "code",
   "execution_count": 26,
   "metadata": {},
   "outputs": [
    {
     "data": {
      "text/plain": [
       "<All keys matched successfully>"
      ]
     },
     "execution_count": 26,
     "metadata": {},
     "output_type": "execute_result"
    }
   ],
   "source": [
    "\n",
    "model_classifier = NeuralNetwork().to(device)\n",
    "model_classifier.load_state_dict(estado_fase_1)"
   ]
  },
  {
   "cell_type": "markdown",
   "metadata": {},
   "source": [
    "## Change f_1(0-4) to f_0(0,4) MODEL 0"
   ]
  },
  {
   "cell_type": "code",
   "execution_count": 27,
   "metadata": {},
   "outputs": [],
   "source": [
    "# Cargar los estados de los modelos\n",
    "estado_fase_0 = torch.load('Fase_0.pth')\n",
    "estado_fase_1 = torch.load('Fase_1.pth')"
   ]
  },
  {
   "cell_type": "code",
   "execution_count": 28,
   "metadata": {},
   "outputs": [],
   "source": [
    "\n",
    "a, b = 0, 5\n",
    "estado_fase_0[\"linear_relu_stack.4.weight\"][a:b, :] = estado_fase_1[\"linear_relu_stack.4.weight\"][a:b, :]\n",
    "estado_fase_0[\"linear_relu_stack.4.bias\"][a:b] = estado_fase_1[\"linear_relu_stack.4.bias\"][a:b]\n",
    "\n",
    "txt = \"logs/preditions_combination_classifier_f1_0_4_f0_5_9_F0.txt\""
   ]
  },
  {
   "cell_type": "code",
   "execution_count": 29,
   "metadata": {},
   "outputs": [
    {
     "data": {
      "text/plain": [
       "<All keys matched successfully>"
      ]
     },
     "execution_count": 29,
     "metadata": {},
     "output_type": "execute_result"
    }
   ],
   "source": [
    "model_classifier = NeuralNetwork().to(device)\n",
    "model_classifier.load_state_dict(estado_fase_0)"
   ]
  },
  {
   "cell_type": "markdown",
   "metadata": {},
   "source": [
    "## Change f_1(5-9) to f_1(5-9) MODEL 0"
   ]
  },
  {
   "cell_type": "code",
   "execution_count": 31,
   "metadata": {},
   "outputs": [],
   "source": [
    "# Cargar los estados de los modelos\n",
    "estado_fase_0 = torch.load('Fase_0.pth')\n",
    "estado_fase_1 = torch.load('Fase_1.pth')"
   ]
  },
  {
   "cell_type": "code",
   "execution_count": 32,
   "metadata": {},
   "outputs": [],
   "source": [
    "\n",
    "# Transferir el clasificador de Fase_0 a Fase_1\n",
    "a, b = 5, 10\n",
    "estado_fase_0[\"linear_relu_stack.4.weight\"][a:b, :] = estado_fase_1[\"linear_relu_stack.4.weight\"][a:b, :]\n",
    "estado_fase_0[\"linear_relu_stack.4.bias\"][a:b] = estado_fase_1[\"linear_relu_stack.4.bias\"][a:b]\n",
    "\n",
    "txt = \"logs/preditions_combination_classifier_f0_0_4_f1_5_9_F0.txt\""
   ]
  },
  {
   "cell_type": "code",
   "execution_count": 33,
   "metadata": {},
   "outputs": [
    {
     "data": {
      "text/plain": [
       "<All keys matched successfully>"
      ]
     },
     "execution_count": 33,
     "metadata": {},
     "output_type": "execute_result"
    }
   ],
   "source": [
    "\n",
    "model_classifier = NeuralNetwork().to(device)\n",
    "model_classifier.load_state_dict(estado_fase_0)"
   ]
  },
  {
   "cell_type": "markdown",
   "metadata": {},
   "source": [
    "### Evaluación"
   ]
  },
  {
   "cell_type": "code",
   "execution_count": 8,
   "metadata": {},
   "outputs": [],
   "source": [
    "def test_loop(dataloader, model, loss_fn, txt):\n",
    "    # Set the model to evaluation mode - important for batch normalization and dropout layers\n",
    "    # Unnecessary in this situation but added for best practices\n",
    "    model.eval()\n",
    "    size = len(dataloader.dataset)\n",
    "    num_batches = len(dataloader)\n",
    "    test_loss, correct = 0, 0\n",
    "    tarjet_prediction = []  # Lista para almacenar las etiquetas reales y predicciones\n",
    "\n",
    "    # Evaluating the model with torch.no_grad() ensures that no gradients are computed during test mode\n",
    "    # also serves to reduce unnecessary gradient computations and memory usage for tensors with requires_grad=True\n",
    "    with torch.no_grad():\n",
    "        for X, y in dataloader:\n",
    "            X, y = X.to(device), y.to(device)\n",
    "            pred = model(X)\n",
    "            test_loss += loss_fn(pred, y).item()\n",
    "            correct += (pred.argmax(1) == y).type(torch.float).sum().item()\n",
    "\n",
    "            # Guardar la etiqueta real y la predicción en la lista de tuplas\n",
    "            tarjet_prediction.extend(list(zip(y.cpu().numpy(), pred.argmax(1).cpu().numpy())))\n",
    "\n",
    "    test_loss /= num_batches\n",
    "    correct /= size\n",
    "    log_accuracy_loss.append((100*correct, test_loss))\n",
    "    print(f\"Test Error: \\n Accuracy: {(100*correct):>0.1f}%, Avg loss: {test_loss:>8f} \\n\")\n",
    "    \n",
    "\n",
    "    with open(f'{txt}', 'w') as archivo:\n",
    "            # Escribe el valor de la variable en el archivo\n",
    "            archivo.write(str(tarjet_prediction))\n",
    "    print(f'El valor prediciones se ha guardado en el archivo.txt')\n",
    "    "
   ]
  },
  {
   "cell_type": "code",
   "execution_count": 9,
   "metadata": {},
   "outputs": [
    {
     "name": "stdout",
     "output_type": "stream",
     "text": [
      "Se cargaron los datos correctamente\n"
     ]
    }
   ],
   "source": [
    "eval_data = torchvision.datasets.MNIST(\n",
    "    root=\"../data\",\n",
    "    train=False,\n",
    "    download=True,\n",
    "    transform=transforms.ToTensor()\n",
    ")\n",
    "eval_dataloader = DataLoader(eval_data, batch_size=10000, shuffle=True)\n",
    "print(\"Se cargaron los datos correctamente\")"
   ]
  },
  {
   "cell_type": "code",
   "execution_count": 10,
   "metadata": {},
   "outputs": [
    {
     "name": "stdout",
     "output_type": "stream",
     "text": [
      "Test Error: \n",
      " Accuracy: 47.9%, Avg loss: 3.205482 \n",
      "\n",
      "El valor prediciones se ha guardado en el archivo.txt\n"
     ]
    }
   ],
   "source": [
    "learning_rate = 1e-3\n",
    "# Initialize the loss function\n",
    "loss_fn = nn.CrossEntropyLoss()\n",
    "optimizer = torch.optim.SGD(model_classifier.parameters(), lr=learning_rate)\n",
    "epochs = 1\n",
    "log_accuracy_loss = []\n",
    "test_loop(eval_dataloader, model_classifier, loss_fn, txt)"
   ]
  }
 ],
 "metadata": {
  "kernelspec": {
   "display_name": "cil",
   "language": "python",
   "name": "python3"
  },
  "language_info": {
   "codemirror_mode": {
    "name": "ipython",
    "version": 3
   },
   "file_extension": ".py",
   "mimetype": "text/x-python",
   "name": "python",
   "nbconvert_exporter": "python",
   "pygments_lexer": "ipython3",
   "version": "3.11.5"
  },
  "orig_nbformat": 4
 },
 "nbformat": 4,
 "nbformat_minor": 2
}
