{
 "cells": [
  {
   "cell_type": "markdown",
   "metadata": {},
   "source": [
    "# Estudio de los parametros del modelo\n"
   ]
  },
  {
   "cell_type": "markdown",
   "metadata": {},
   "source": [
    "Queremos hacer un analisis de todos los parametros de nuestros dos modelos. \n",
    "- Fase_0\n",
    "- Fase_1"
   ]
  },
  {
   "cell_type": "markdown",
   "metadata": {},
   "source": [
    "### Fase 1"
   ]
  },
  {
   "cell_type": "code",
   "execution_count": 1,
   "metadata": {},
   "outputs": [
    {
     "name": "stdout",
     "output_type": "stream",
     "text": [
      "True\n"
     ]
    }
   ],
   "source": [
    "import torch\n",
    "from pprint import pprint\n",
    "device = \"cuda\"\n",
    "print(torch.cuda.is_available())"
   ]
  },
  {
   "cell_type": "code",
   "execution_count": 5,
   "metadata": {},
   "outputs": [],
   "source": [
    "import torch\n",
    "\n",
    "# Cargar los estados de los modelos\n",
    "fase_0 = torch.load('Fase_0.pth')\n",
    "fase_1 = torch.load('Fase_1.pth')\n"
   ]
  },
  {
   "cell_type": "code",
   "execution_count": 8,
   "metadata": {},
   "outputs": [],
   "source": [
    "# Transferir el clasificador de Fase_0 a Fase_1\n",
    "fase_1[\"linear_relu_stack.4.weight\"][5:10, :] = fase_0[\"linear_relu_stack.4.weight\"][5:10, :]\n",
    "fase_1[\"linear_relu_stack.4.bias\"][5:10] = fase_0[\"linear_relu_stack.4.bias\"][5:10]"
   ]
  },
  {
   "cell_type": "code",
   "execution_count": 9,
   "metadata": {},
   "outputs": [
    {
     "name": "stdout",
     "output_type": "stream",
     "text": [
      "Weights Norm:\n",
      "[(0, tensor(1.0966, device='cuda:0')),\n",
      " (1, tensor(1.1971, device='cuda:0')),\n",
      " (2, tensor(1.0860, device='cuda:0')),\n",
      " (3, tensor(1.0435, device='cuda:0')),\n",
      " (4, tensor(1.0837, device='cuda:0')),\n",
      " (5, tensor(0.6537, device='cuda:0')),\n",
      " (6, tensor(0.6658, device='cuda:0')),\n",
      " (7, tensor(0.6536, device='cuda:0')),\n",
      " (8, tensor(0.6560, device='cuda:0')),\n",
      " (9, tensor(0.6453, device='cuda:0'))]\n",
      "Bias:\n",
      "[(0, tensor(0.0329, device='cuda:0')),\n",
      " (1, tensor(0.2524, device='cuda:0')),\n",
      " (2, tensor(0.0166, device='cuda:0')),\n",
      " (3, tensor(0.0098, device='cuda:0')),\n",
      " (4, tensor(0.0994, device='cuda:0')),\n",
      " (5, tensor(0.0808, device='cuda:0')),\n",
      " (6, tensor(0.1150, device='cuda:0')),\n",
      " (7, tensor(0.0970, device='cuda:0')),\n",
      " (8, tensor(0.1229, device='cuda:0')),\n",
      " (9, tensor(0.0929, device='cuda:0'))]\n"
     ]
    }
   ],
   "source": [
    "print(\"Weights Norm:\")\n",
    "pprint([(indice ,torch.norm(row) ) for indice ,row in enumerate(fase_1[\"linear_relu_stack.4.weight\"])])\n",
    "print(\"Bias:\")\n",
    "pprint([(indice ,torch.norm(row) ) for indice ,row in enumerate(fase_1[\"linear_relu_stack.4.bias\"])])"
   ]
  },
  {
   "cell_type": "code",
   "execution_count": 6,
   "metadata": {},
   "outputs": [
    {
     "name": "stdout",
     "output_type": "stream",
     "text": [
      "Weights Norm:\n",
      "[(0, tensor(1.0966, device='cuda:0')),\n",
      " (1, tensor(1.1971, device='cuda:0')),\n",
      " (2, tensor(1.0860, device='cuda:0')),\n",
      " (3, tensor(1.0435, device='cuda:0')),\n",
      " (4, tensor(1.0837, device='cuda:0')),\n",
      " (5, tensor(1.1008, device='cuda:0')),\n",
      " (6, tensor(1.2016, device='cuda:0')),\n",
      " (7, tensor(1.2454, device='cuda:0')),\n",
      " (8, tensor(1.0349, device='cuda:0')),\n",
      " (9, tensor(1.1408, device='cuda:0'))]\n",
      "Bias:\n",
      "[(0, tensor(0.0329, device='cuda:0')),\n",
      " (1, tensor(0.2524, device='cuda:0')),\n",
      " (2, tensor(0.0166, device='cuda:0')),\n",
      " (3, tensor(0.0098, device='cuda:0')),\n",
      " (4, tensor(0.0994, device='cuda:0')),\n",
      " (5, tensor(0.0797, device='cuda:0')),\n",
      " (6, tensor(0.0611, device='cuda:0')),\n",
      " (7, tensor(0.0681, device='cuda:0')),\n",
      " (8, tensor(0.2061, device='cuda:0')),\n",
      " (9, tensor(0.0385, device='cuda:0'))]\n"
     ]
    }
   ],
   "source": [
    "print(\"Weights Norm:\")\n",
    "pprint([(indice ,torch.norm(row) ) for indice ,row in enumerate(fase_1[\"linear_relu_stack.4.weight\"])])\n",
    "print(\"Bias:\")\n",
    "pprint([(indice ,torch.norm(row) ) for indice ,row in enumerate(fase_1[\"linear_relu_stack.4.bias\"])])\n"
   ]
  },
  {
   "cell_type": "markdown",
   "metadata": {},
   "source": [
    "Las nuevas clases van de 5-9 tienen valores en [0.84, 0.94], mientras que las clases de la etapa pasada estan entre [0.90, 1.1]"
   ]
  },
  {
   "cell_type": "code",
   "execution_count": 4,
   "metadata": {},
   "outputs": [
    {
     "data": {
      "text/plain": [
       "torch.Size([512, 512])"
      ]
     },
     "execution_count": 4,
     "metadata": {},
     "output_type": "execute_result"
    }
   ],
   "source": [
    "fase_1[\"linear_relu_stack.2.weight\"].shape"
   ]
  },
  {
   "cell_type": "markdown",
   "metadata": {},
   "source": [
    "### Importante"
   ]
  },
  {
   "cell_type": "markdown",
   "metadata": {},
   "source": [
    "Que analisis se les puede hacer a estos parametros?"
   ]
  },
  {
   "cell_type": "markdown",
   "metadata": {},
   "source": [
    "### Fase 0"
   ]
  },
  {
   "cell_type": "code",
   "execution_count": 5,
   "metadata": {},
   "outputs": [],
   "source": [
    "fase_0 = torch.load(\"Fase_0.pth\")"
   ]
  },
  {
   "cell_type": "code",
   "execution_count": 7,
   "metadata": {},
   "outputs": [
    {
     "name": "stdout",
     "output_type": "stream",
     "text": [
      "Weights Norm:\n",
      "[(0, tensor(1.1837, device='cuda:0')),\n",
      " (1, tensor(1.2546, device='cuda:0')),\n",
      " (2, tensor(1.1479, device='cuda:0')),\n",
      " (3, tensor(1.1303, device='cuda:0')),\n",
      " (4, tensor(1.2050, device='cuda:0')),\n",
      " (5, tensor(0.6537, device='cuda:0')),\n",
      " (6, tensor(0.6658, device='cuda:0')),\n",
      " (7, tensor(0.6536, device='cuda:0')),\n",
      " (8, tensor(0.6560, device='cuda:0')),\n",
      " (9, tensor(0.6453, device='cuda:0'))]\n",
      "Bias:\n",
      "[(0, tensor(0.0374, device='cuda:0')),\n",
      " (1, tensor(0.3143, device='cuda:0')),\n",
      " (2, tensor(0.0779, device='cuda:0')),\n",
      " (3, tensor(0.0790, device='cuda:0')),\n",
      " (4, tensor(0.1872, device='cuda:0')),\n",
      " (5, tensor(0.0808, device='cuda:0')),\n",
      " (6, tensor(0.1150, device='cuda:0')),\n",
      " (7, tensor(0.0970, device='cuda:0')),\n",
      " (8, tensor(0.1229, device='cuda:0')),\n",
      " (9, tensor(0.0929, device='cuda:0'))]\n"
     ]
    }
   ],
   "source": [
    "print(\"Weights Norm:\")\n",
    "pprint([(indice ,torch.norm(row) ) for indice ,row in enumerate(fase_0[\"linear_relu_stack.4.weight\"])])\n",
    "print(\"Bias:\")\n",
    "pprint([(indice ,torch.norm(row) ) for indice ,row in enumerate(fase_0[\"linear_relu_stack.4.bias\"])])"
   ]
  },
  {
   "cell_type": "markdown",
   "metadata": {},
   "source": [
    "### Comparativa"
   ]
  },
  {
   "cell_type": "code",
   "execution_count": 7,
   "metadata": {},
   "outputs": [
    {
     "name": "stdout",
     "output_type": "stream",
     "text": [
      "Weights Norm: Fase 0\n",
      "[(0, tensor(1.0647, device='cuda:0')),\n",
      " (1, tensor(1.1196, device='cuda:0')),\n",
      " (2, tensor(0.9130, device='cuda:0')),\n",
      " (3, tensor(1.0001, device='cuda:0')),\n",
      " (4, tensor(1.0410, device='cuda:0'))]\n",
      "Weights Norm: Fase 1\n",
      "[(0, tensor(1.0589, device='cuda:0')),\n",
      " (1, tensor(1.1196, device='cuda:0')),\n",
      " (2, tensor(0.9086, device='cuda:0')),\n",
      " (3, tensor(0.9887, device='cuda:0')),\n",
      " (4, tensor(1.0196, device='cuda:0')),\n",
      " (5, tensor(0.8405, device='cuda:0')),\n",
      " (6, tensor(0.9494, device='cuda:0')),\n",
      " (7, tensor(0.8697, device='cuda:0')),\n",
      " (8, tensor(0.7364, device='cuda:0')),\n",
      " (9, tensor(0.8081, device='cuda:0'))]\n"
     ]
    }
   ],
   "source": [
    "print(\"Weights Norm: Fase 0\")\n",
    "pprint([(indice ,torch.norm(row) ) for indice ,row in enumerate(fase_0[\"linear_relu_stack.4.weight\"])])\n",
    "\n",
    "print(\"Weights Norm: Fase 1\")\n",
    "pprint([(indice ,torch.norm(row) ) for indice ,row in enumerate(fase_1[\"linear_relu_stack.4.weight\"])])"
   ]
  },
  {
   "cell_type": "markdown",
   "metadata": {},
   "source": [
    "Cambian ligeramente los pesos de la etapa 0."
   ]
  },
  {
   "cell_type": "markdown",
   "metadata": {},
   "source": [
    "# Tuning Model"
   ]
  },
  {
   "cell_type": "code",
   "execution_count": 8,
   "metadata": {},
   "outputs": [],
   "source": [
    "tuning_model = torch.load(\"Tuning.pth\")"
   ]
  },
  {
   "cell_type": "code",
   "execution_count": 9,
   "metadata": {},
   "outputs": [
    {
     "name": "stdout",
     "output_type": "stream",
     "text": [
      "Weights Norm:\n",
      "[(0, tensor(1.4157, device='cuda:0')),\n",
      " (1, tensor(1.5501, device='cuda:0')),\n",
      " (2, tensor(1.2282, device='cuda:0')),\n",
      " (3, tensor(1.2511, device='cuda:0')),\n",
      " (4, tensor(1.1962, device='cuda:0')),\n",
      " (5, tensor(0.8789, device='cuda:0')),\n",
      " (6, tensor(1.2373, device='cuda:0')),\n",
      " (7, tensor(1.3043, device='cuda:0')),\n",
      " (8, tensor(0.7250, device='cuda:0')),\n",
      " (9, tensor(0.9543, device='cuda:0'))]\n",
      "Bias:\n",
      "[(0, tensor(0.1358, device='cuda:0')),\n",
      " (1, tensor(0.2423, device='cuda:0')),\n",
      " (2, tensor(0.1042, device='cuda:0')),\n",
      " (3, tensor(0.0206, device='cuda:0')),\n",
      " (4, tensor(0.0241, device='cuda:0')),\n",
      " (5, tensor(0.1650, device='cuda:0')),\n",
      " (6, tensor(0.0225, device='cuda:0')),\n",
      " (7, tensor(0.1521, device='cuda:0')),\n",
      " (8, tensor(0.2250, device='cuda:0')),\n",
      " (9, tensor(0.0361, device='cuda:0'))]\n"
     ]
    }
   ],
   "source": [
    "print(\"Weights Norm:\")\n",
    "pprint([(indice ,torch.norm(row) ) for indice ,row in enumerate(tuning_model[\"linear_relu_stack.4.weight\"])])\n",
    "print(\"Bias:\")\n",
    "pprint([(indice ,torch.norm(row) ) for indice ,row in enumerate(tuning_model[\"linear_relu_stack.4.bias\"])])"
   ]
  },
  {
   "cell_type": "code",
   "execution_count": 10,
   "metadata": {},
   "outputs": [
    {
     "name": "stdout",
     "output_type": "stream",
     "text": [
      "Weights Norm: Tuning model\n",
      "[(0, tensor(1.4157, device='cuda:0')),\n",
      " (1, tensor(1.5501, device='cuda:0')),\n",
      " (2, tensor(1.2282, device='cuda:0')),\n",
      " (3, tensor(1.2511, device='cuda:0')),\n",
      " (4, tensor(1.1962, device='cuda:0')),\n",
      " (5, tensor(0.8789, device='cuda:0')),\n",
      " (6, tensor(1.2373, device='cuda:0')),\n",
      " (7, tensor(1.3043, device='cuda:0')),\n",
      " (8, tensor(0.7250, device='cuda:0')),\n",
      " (9, tensor(0.9543, device='cuda:0'))]\n",
      "Weights Norm: fase 1\n",
      "[(0, tensor(1.0589, device='cuda:0')),\n",
      " (1, tensor(1.1196, device='cuda:0')),\n",
      " (2, tensor(0.9086, device='cuda:0')),\n",
      " (3, tensor(0.9887, device='cuda:0')),\n",
      " (4, tensor(1.0196, device='cuda:0')),\n",
      " (5, tensor(0.8405, device='cuda:0')),\n",
      " (6, tensor(0.9494, device='cuda:0')),\n",
      " (7, tensor(0.8697, device='cuda:0')),\n",
      " (8, tensor(0.7364, device='cuda:0')),\n",
      " (9, tensor(0.8081, device='cuda:0'))]\n"
     ]
    }
   ],
   "source": [
    "print(\"Weights Norm: Tuning model\")\n",
    "pprint([(indice ,torch.norm(row) ) for indice ,row in enumerate(tuning_model[\"linear_relu_stack.4.weight\"])])\n",
    "print(\"Weights Norm: fase 1\")\n",
    "pprint([(indice ,torch.norm(row) ) for indice ,row in enumerate(fase_1[\"linear_relu_stack.4.weight\"])])"
   ]
  },
  {
   "cell_type": "markdown",
   "metadata": {},
   "source": [
    "# Mini Tuning model"
   ]
  },
  {
   "cell_type": "code",
   "execution_count": 11,
   "metadata": {},
   "outputs": [],
   "source": [
    "mini_tuning_model = torch.load(\"mini_Tuning.pth\")"
   ]
  },
  {
   "cell_type": "code",
   "execution_count": 13,
   "metadata": {},
   "outputs": [
    {
     "name": "stdout",
     "output_type": "stream",
     "text": [
      "Weights Norm: Tuning model\n",
      "[(0, tensor(1.4157, device='cuda:0')),\n",
      " (1, tensor(1.5501, device='cuda:0')),\n",
      " (2, tensor(1.2282, device='cuda:0')),\n",
      " (3, tensor(1.2511, device='cuda:0')),\n",
      " (4, tensor(1.1962, device='cuda:0')),\n",
      " (5, tensor(0.8789, device='cuda:0')),\n",
      " (6, tensor(1.2373, device='cuda:0')),\n",
      " (7, tensor(1.3043, device='cuda:0')),\n",
      " (8, tensor(0.7250, device='cuda:0')),\n",
      " (9, tensor(0.9543, device='cuda:0'))]\n",
      "Weights Norm: Mini Tuing model\n",
      "[(0, tensor(1.1623, device='cuda:0')),\n",
      " (1, tensor(1.2161, device='cuda:0')),\n",
      " (2, tensor(0.9757, device='cuda:0')),\n",
      " (3, tensor(1.0481, device='cuda:0')),\n",
      " (4, tensor(1.0551, device='cuda:0')),\n",
      " (5, tensor(0.6836, device='cuda:0')),\n",
      " (6, tensor(0.9018, device='cuda:0')),\n",
      " (7, tensor(0.8730, device='cuda:0')),\n",
      " (8, tensor(0.5374, device='cuda:0')),\n",
      " (9, tensor(0.7238, device='cuda:0'))]\n"
     ]
    }
   ],
   "source": [
    "print(\"Weights Norm: Tuning model\")\n",
    "pprint([(indice ,torch.norm(row) ) for indice ,row in enumerate(tuning_model[\"linear_relu_stack.4.weight\"])])\n",
    "#print(\"Weights Norm: fase 1\")\n",
    "#pprint([(indice ,torch.norm(row) ) for indice ,row in enumerate(fase_1[\"linear_relu_stack.4.weight\"])])\n",
    "print(\"Weights Norm: Mini Tuing model\")\n",
    "pprint([(indice ,torch.norm(row) ) for indice ,row in enumerate(mini_tuning_model[\"linear_relu_stack.4.weight\"])])\n"
   ]
  }
 ],
 "metadata": {
  "kernelspec": {
   "display_name": "torch",
   "language": "python",
   "name": "python3"
  },
  "language_info": {
   "codemirror_mode": {
    "name": "ipython",
    "version": 3
   },
   "file_extension": ".py",
   "mimetype": "text/x-python",
   "name": "python",
   "nbconvert_exporter": "python",
   "pygments_lexer": "ipython3",
   "version": "3.11.5"
  },
  "orig_nbformat": 4
 },
 "nbformat": 4,
 "nbformat_minor": 2
}
