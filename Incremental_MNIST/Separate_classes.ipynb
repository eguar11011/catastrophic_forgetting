{
 "cells": [
  {
   "cell_type": "code",
   "execution_count": 1,
   "metadata": {},
   "outputs": [],
   "source": [
    "import torchvision\n",
    "from torchvision import transforms\n",
    "import torch\n",
    "from torch import nn\n",
    "from torch.utils.data import DataLoader\n",
    "\n",
    "import os\n",
    "\n",
    "\n",
    "\n",
    "total_fase = 2 \n",
    "save_model = True\n",
    "load_model = False\n",
    "device = \"cuda\"\n",
    "data_dir = \"../data\" \n",
    "batch_size = 32\n",
    "#------------------------------------------------------------------------------------------------\n",
    "\n",
    "# Conjunto de datos MNIST\n",
    "train_data = torchvision.datasets.MNIST(\n",
    "    root=data_dir,\n",
    "    train=True,\n",
    "    download=True,\n",
    "    transform=transforms.ToTensor()\n",
    ")\n",
    "eval_data = torchvision.datasets.MNIST(\n",
    "    root=data_dir,\n",
    "    train=False,\n",
    "    download=True,\n",
    "    transform=transforms.ToTensor()\n",
    ")"
   ]
  },
  {
   "cell_type": "code",
   "execution_count": 2,
   "metadata": {},
   "outputs": [],
   "source": [
    "import torch\n",
    "from torch.utils.data import DataLoader, Subset\n",
    "\n",
    "# Define el número total de clases en tu conjunto de datos\n",
    "num_classes = 10  # Suponiendo que tienes 10 clases en total\n",
    "\n",
    "# Lista para almacenar los DataLoaders de cada clase\n",
    "class_dataloaders = []\n",
    "\n",
    "# Itera sobre cada clase y crea un DataLoader para esa clase\n",
    "for class_idx in range(num_classes):\n",
    "    # Obtén los índices para la clase actual\n",
    "    class_indices = [i for i in range(len(train_data)) if train_data.targets[i] == class_idx]\n",
    "    \n",
    "    # Subconjunto de datos para la clase actual\n",
    "    class_subset = Subset(train_data, class_indices)\n",
    "    \n",
    "    # DataLoader para la clase actual\n",
    "    class_dataloader = DataLoader(class_subset, batch_size=batch_size, shuffle=True)\n",
    "    \n",
    "    # Agrega el DataLoader al listado\n",
    "    class_dataloaders.append(class_dataloader)\n"
   ]
  },
  {
   "cell_type": "code",
   "execution_count": 36,
   "metadata": {},
   "outputs": [
    {
     "ename": "IndexError",
     "evalue": "index 5 is out of bounds for axis 0 with size 5",
     "output_type": "error",
     "traceback": [
      "\u001b[0;31m---------------------------------------------------------------------------\u001b[0m",
      "\u001b[0;31mIndexError\u001b[0m                                Traceback (most recent call last)",
      "Cell \u001b[0;32mIn[36], line 16\u001b[0m\n\u001b[1;32m     14\u001b[0m fig, axes \u001b[39m=\u001b[39m plt\u001b[39m.\u001b[39msubplots(figsize\u001b[39m=\u001b[39m(\u001b[39m10\u001b[39m, \u001b[39m4\u001b[39m), ncols\u001b[39m=\u001b[39m\u001b[39mmin\u001b[39m(\u001b[39mlen\u001b[39m(images), \u001b[39m5\u001b[39m))\n\u001b[1;32m     15\u001b[0m \u001b[39mfor\u001b[39;00m i, (image, label) \u001b[39min\u001b[39;00m \u001b[39menumerate\u001b[39m(\u001b[39mzip\u001b[39m(images, labels)):\n\u001b[0;32m---> 16\u001b[0m     ax \u001b[39m=\u001b[39m axes[i]\n\u001b[1;32m     17\u001b[0m     ax\u001b[39m.\u001b[39mimshow(np\u001b[39m.\u001b[39mtranspose(image, (\u001b[39m1\u001b[39m, \u001b[39m2\u001b[39m, \u001b[39m0\u001b[39m)))  \u001b[39m# Las imágenes están en formato (C x H x W), hay que transponerlas a (H x W x C) para mostrarlas con matplotlib\u001b[39;00m\n\u001b[1;32m     18\u001b[0m     ax\u001b[39m.\u001b[39mset_title(\u001b[39mf\u001b[39m\u001b[39m'\u001b[39m\u001b[39mClase: \u001b[39m\u001b[39m{\u001b[39;00mlabel\u001b[39m}\u001b[39;00m\u001b[39m'\u001b[39m)\n",
      "\u001b[0;31mIndexError\u001b[0m: index 5 is out of bounds for axis 0 with size 5"
     ]
    },
    {
     "data": {
      "image/png": "[encoded data removed]",
      "text/plain": [
       "<Figure size 1000x400 with 5 Axes>"
      ]
     },
     "metadata": {},
     "output_type": "display_data"
    }
   ],
   "source": [
    "import matplotlib.pyplot as plt\n",
    "import numpy as np\n",
    "\n",
    "# Elegir un DataLoader específico para visualizar, por ejemplo, el DataLoader de la clase 0\n",
    "dataloader = class_dataloaders[6]  # Cambia el índice según sea necesario\n",
    "\n",
    "# Iterar sobre los lotes y mostrar las imágenes\n",
    "for images, labels in dataloader:\n",
    "    # Convertir las imágenes a un arreglo numpy\n",
    "    images = images.numpy()\n",
    "    labels = labels.numpy()\n",
    "    \n",
    "    # Mostrar las imágenes en una cuadrícula\n",
    "    fig, axes = plt.subplots(figsize=(10, 4), ncols=min(len(images), 5))\n",
    "    for i, (image, label) in enumerate(zip(images, labels)):\n",
    "        ax = axes[i]\n",
    "        ax.imshow(np.transpose(image, (1, 2, 0)))  # Las imágenes están en formato (C x H x W), hay que transponerlas a (H x W x C) para mostrarlas con matplotlib\n",
    "        ax.set_title(f'Clase: {label}')\n",
    "        ax.axis('off')\n",
    "    plt.show()"
   ]
  },
  {
   "cell_type": "code",
   "execution_count": null,
   "metadata": {},
   "outputs": [],
   "source": [
    "# Define el número total de clases en tu conjunto de datos\n",
    "num_classes = 10  # Suponiendo que tienes 10 clases en total\n",
    "\n",
    "# Lista para almacenar los DataLoaders de evaluación de cada clase\n",
    "eval_class_dataloaders = []\n",
    "\n",
    "# Itera sobre cada clase y crea un DataLoader de evaluación para esa clase\n",
    "for class_idx in range(num_classes):\n",
    "    # Obtén los índices para la clase actual en el conjunto de evaluación\n",
    "    class_indices_eval = [i for i in range(len(eval_data)) if eval_data.targets[i] == class_idx]\n",
    "    \n",
    "    # Subconjunto de datos de evaluación para la clase actual\n",
    "    class_subset_eval = Subset(eval_data, class_indices_eval)\n",
    "    \n",
    "    # DataLoader de evaluación para la clase actual\n",
    "    class_dataloader_eval = DataLoader(class_subset_eval, batch_size=batch_size, shuffle=True)\n",
    "    \n",
    "    # Agrega el DataLoader de evaluación al listado\n",
    "    eval_class_dataloaders.append(class_dataloader_eval)\n"
   ]
  }
 ],
 "metadata": {
  "kernelspec": {
   "display_name": "torch",
   "language": "python",
   "name": "python3"
  },
  "language_info": {
   "codemirror_mode": {
    "name": "ipython",
    "version": 3
   },
   "file_extension": ".py",
   "mimetype": "text/x-python",
   "name": "python",
   "nbconvert_exporter": "python",
   "pygments_lexer": "ipython3",
   "version": "3.11.5"
  },
  "orig_nbformat": 4
 },
 "nbformat": 4,
 "nbformat_minor": 2
}
